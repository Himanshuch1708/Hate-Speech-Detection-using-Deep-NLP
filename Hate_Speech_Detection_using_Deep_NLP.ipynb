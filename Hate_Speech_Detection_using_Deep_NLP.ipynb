{
  "cells": [
    {
      "cell_type": "markdown",
      "metadata": {
        "id": "view-in-github",
        "colab_type": "text"
      },
      "source": [
        "<a href=\"https://colab.research.google.com/github/Himanshuch1708/Hate-Speech-Detection-using-Deep-NLP/blob/main/Hate_Speech_Detection_using_Deep_NLP.ipynb\" target=\"_parent\"><img src=\"https://colab.research.google.com/assets/colab-badge.svg\" alt=\"Open In Colab\"/></a>"
      ]
    },
    {
      "cell_type": "markdown",
      "id": "5a317524-e230-445d-90da-c2cf17699a12",
      "metadata": {
        "id": "5a317524-e230-445d-90da-c2cf17699a12",
        "tags": []
      },
      "source": [
        "# Hate Speech Detection using Deep NLP\n",
        "\n",
        "Hate speech detection is an automated process that determines whether a text contains hate speech. With PyTorch and a pre-trained BERT model, I created a classifier for this project.\n",
        "\n",
        "**Data source:** Hate Towards the Political Opponent: A Twitter Corpus Study of the 2020 US Elections on the Basis of Offensive Speech and Stance Detection https://www.ims.uni-stuttgart.de/forschung/ressourcen/korpora/stance-hof/"
      ]
    },
    {
      "cell_type": "markdown",
      "id": "9c5f3887-5ed7-4c42-bc33-57dcb51550fc",
      "metadata": {
        "id": "9c5f3887-5ed7-4c42-bc33-57dcb51550fc"
      },
      "source": [
        "## GPU set-up"
      ]
    },
    {
      "cell_type": "code",
      "execution_count": 1,
      "id": "dd2107fc-38dd-46a1-9043-65350cc82d41",
      "metadata": {
        "colab": {
          "base_uri": "https://localhost:8080/"
        },
        "id": "dd2107fc-38dd-46a1-9043-65350cc82d41",
        "outputId": "a214427a-783b-47e0-9ee5-536db695864f"
      },
      "outputs": [
        {
          "output_type": "stream",
          "name": "stdout",
          "text": [
            "There are 1 GPU(s) available.\n",
            "We will use the GPU: Tesla T4\n"
          ]
        }
      ],
      "source": [
        "import torch\n",
        "\n",
        "# If there's a GPU available...\n",
        "if torch.cuda.is_available():    \n",
        "\n",
        "    # Tell PyTorch to use the GPU.    \n",
        "    device = torch.device(\"cuda\")\n",
        "\n",
        "    print('There are %d GPU(s) available.' % torch.cuda.device_count())\n",
        "\n",
        "    print('We will use the GPU:', torch.cuda.get_device_name(0))\n",
        "\n",
        "# If not...\n",
        "else:\n",
        "    print('No GPU available, using the CPU instead.')\n",
        "    device = torch.device(\"cpu\")"
      ]
    },
    {
      "cell_type": "markdown",
      "id": "c7f1b9be-f2e1-407c-89b5-0ab50789090d",
      "metadata": {
        "id": "c7f1b9be-f2e1-407c-89b5-0ab50789090d"
      },
      "source": [
        "## Load libraries"
      ]
    },
    {
      "cell_type": "code",
      "execution_count": 2,
      "id": "pbeyn5mG1K9J",
      "metadata": {
        "id": "pbeyn5mG1K9J",
        "colab": {
          "base_uri": "https://localhost:8080/"
        },
        "outputId": "2f6d5ad4-48ac-4fb6-fcec-30c3a5c6a0d7"
      },
      "outputs": [
        {
          "output_type": "stream",
          "name": "stdout",
          "text": [
            "Looking in indexes: https://pypi.org/simple, https://us-python.pkg.dev/colab-wheels/public/simple/\n",
            "Collecting transformers\n",
            "  Downloading transformers-4.28.1-py3-none-any.whl (7.0 MB)\n",
            "\u001b[2K     \u001b[90m━━━━━━━━━━━━━━━━━━━━━━━━━━━━━━━━━━━━━━━━\u001b[0m \u001b[32m7.0/7.0 MB\u001b[0m \u001b[31m45.0 MB/s\u001b[0m eta \u001b[36m0:00:00\u001b[0m\n",
            "\u001b[?25hRequirement already satisfied: tqdm>=4.27 in /usr/local/lib/python3.9/dist-packages (from transformers) (4.65.0)\n",
            "Requirement already satisfied: requests in /usr/local/lib/python3.9/dist-packages (from transformers) (2.27.1)\n",
            "Requirement already satisfied: pyyaml>=5.1 in /usr/local/lib/python3.9/dist-packages (from transformers) (6.0)\n",
            "Requirement already satisfied: regex!=2019.12.17 in /usr/local/lib/python3.9/dist-packages (from transformers) (2022.10.31)\n",
            "Collecting huggingface-hub<1.0,>=0.11.0\n",
            "  Downloading huggingface_hub-0.13.4-py3-none-any.whl (200 kB)\n",
            "\u001b[2K     \u001b[90m━━━━━━━━━━━━━━━━━━━━━━━━━━━━━━━━━━━━━━\u001b[0m \u001b[32m200.1/200.1 kB\u001b[0m \u001b[31m24.4 MB/s\u001b[0m eta \u001b[36m0:00:00\u001b[0m\n",
            "\u001b[?25hRequirement already satisfied: packaging>=20.0 in /usr/local/lib/python3.9/dist-packages (from transformers) (23.0)\n",
            "Requirement already satisfied: filelock in /usr/local/lib/python3.9/dist-packages (from transformers) (3.11.0)\n",
            "Collecting tokenizers!=0.11.3,<0.14,>=0.11.1\n",
            "  Downloading tokenizers-0.13.3-cp39-cp39-manylinux_2_17_x86_64.manylinux2014_x86_64.whl (7.8 MB)\n",
            "\u001b[2K     \u001b[90m━━━━━━━━━━━━━━━━━━━━━━━━━━━━━━━━━━━━━━━━\u001b[0m \u001b[32m7.8/7.8 MB\u001b[0m \u001b[31m49.5 MB/s\u001b[0m eta \u001b[36m0:00:00\u001b[0m\n",
            "\u001b[?25hRequirement already satisfied: numpy>=1.17 in /usr/local/lib/python3.9/dist-packages (from transformers) (1.22.4)\n",
            "Requirement already satisfied: typing-extensions>=3.7.4.3 in /usr/local/lib/python3.9/dist-packages (from huggingface-hub<1.0,>=0.11.0->transformers) (4.5.0)\n",
            "Requirement already satisfied: idna<4,>=2.5 in /usr/local/lib/python3.9/dist-packages (from requests->transformers) (3.4)\n",
            "Requirement already satisfied: charset-normalizer~=2.0.0 in /usr/local/lib/python3.9/dist-packages (from requests->transformers) (2.0.12)\n",
            "Requirement already satisfied: urllib3<1.27,>=1.21.1 in /usr/local/lib/python3.9/dist-packages (from requests->transformers) (1.26.15)\n",
            "Requirement already satisfied: certifi>=2017.4.17 in /usr/local/lib/python3.9/dist-packages (from requests->transformers) (2022.12.7)\n",
            "Installing collected packages: tokenizers, huggingface-hub, transformers\n",
            "Successfully installed huggingface-hub-0.13.4 tokenizers-0.13.3 transformers-4.28.1\n"
          ]
        }
      ],
      "source": [
        "!pip install transformers"
      ]
    },
    {
      "cell_type": "code",
      "execution_count": 3,
      "id": "272f722d-1680-4e16-add8-5085bf7a50f1",
      "metadata": {
        "id": "272f722d-1680-4e16-add8-5085bf7a50f1"
      },
      "outputs": [],
      "source": [
        "import os\n",
        "from pathlib import Path\n",
        "\n",
        "import numpy as np\n",
        "import pandas as pd\n",
        "import matplotlib.pyplot as plt\n",
        "%matplotlib inline\n",
        "import re\n",
        "from string import punctuation\n",
        "from collections import Counter\n",
        "import random\n",
        "import operator\n",
        "from tqdm import tqdm\n",
        "import time\n",
        "\n",
        "from sklearn.model_selection import train_test_split\n",
        "from sklearn.metrics import accuracy_score, classification_report, confusion_matrix\n",
        "\n",
        "import torch\n",
        "from torch import nn, optim\n",
        "from torch.nn import functional as F\n",
        "from torch.utils.data import Dataset, DataLoader, RandomSampler, SequentialSampler\n",
        "\n",
        "from transformers import BertModel, BertTokenizer"
      ]
    },
    {
      "cell_type": "markdown",
      "id": "4ba6f892-fd29-4a1f-9a17-2efb6d2e2adf",
      "metadata": {
        "id": "4ba6f892-fd29-4a1f-9a17-2efb6d2e2adf"
      },
      "source": [
        "## Load data\n",
        "\n",
        "Note that I will only use two of the columns: 'text' and 'HOF' (i.e. the label). The other columns (sentiment towards Trump, Biden and West) are superfluous to the current (simple) task. "
      ]
    },
    {
      "cell_type": "code",
      "execution_count": 4,
      "id": "315f77d2-4d1e-402d-8bd2-8047fa9dbebd",
      "metadata": {
        "id": "315f77d2-4d1e-402d-8bd2-8047fa9dbebd"
      },
      "outputs": [],
      "source": [
        "def load_data(path, sample_size=5, cols=['text', 'HOF'], label=None):\n",
        "    \"\"\"Helper function that loads data from a given path into a pandas\n",
        "       DataFrame, using only the specified cols. Also prints basic info\n",
        "       about the dataset size and displays a sample of the rows. \n",
        "    \"\"\"\n",
        "    \n",
        "    df = pd.read_csv(path, sep='\\t', usecols=cols)\n",
        "    \n",
        "    print(f\"\\nThere are {df.shape[0]} tweets in the {label} dataset.\")\n",
        "    print(\"\\nHere's a sample:\\n\")\n",
        "    display(df.sample(sample_size))\n",
        "    \n",
        "    return df"
      ]
    },
    {
      "cell_type": "code",
      "execution_count": 6,
      "id": "FMvZ-Qzb1gBq",
      "metadata": {
        "colab": {
          "base_uri": "https://localhost:8080/",
          "height": 569
        },
        "id": "FMvZ-Qzb1gBq",
        "outputId": "d1a92a99-5681-433d-a18f-d55509cbb606"
      },
      "outputs": [
        {
          "output_type": "stream",
          "name": "stdout",
          "text": [
            "\n",
            "There are 2400 tweets in the train dataset.\n",
            "\n",
            "Here's a sample:\n",
            "\n"
          ]
        },
        {
          "output_type": "display_data",
          "data": {
            "text/plain": [
              "                                                   text          HOF\n",
              "778   @realDonaldTrump says don't be afraid of COVID...  Non-Hateful\n",
              "2049  @BuzzPatterson When reporting on Biden, it's e...  Non-Hateful\n",
              "2330  @artistiicgroove You need help. Praying for yo...  Non-Hateful\n",
              "535   @SenKamalaHarris good luck tonight! America is...  Non-Hateful\n",
              "416   @politicalfarm @Patriot_Editor He's married to...  Non-Hateful"
            ],
            "text/html": [
              "\n",
              "  <div id=\"df-f5a136e7-6bc1-4828-abe4-92bd12ecb5ae\">\n",
              "    <div class=\"colab-df-container\">\n",
              "      <div>\n",
              "<style scoped>\n",
              "    .dataframe tbody tr th:only-of-type {\n",
              "        vertical-align: middle;\n",
              "    }\n",
              "\n",
              "    .dataframe tbody tr th {\n",
              "        vertical-align: top;\n",
              "    }\n",
              "\n",
              "    .dataframe thead th {\n",
              "        text-align: right;\n",
              "    }\n",
              "</style>\n",
              "<table border=\"1\" class=\"dataframe\">\n",
              "  <thead>\n",
              "    <tr style=\"text-align: right;\">\n",
              "      <th></th>\n",
              "      <th>text</th>\n",
              "      <th>HOF</th>\n",
              "    </tr>\n",
              "  </thead>\n",
              "  <tbody>\n",
              "    <tr>\n",
              "      <th>778</th>\n",
              "      <td>@realDonaldTrump says don't be afraid of COVID...</td>\n",
              "      <td>Non-Hateful</td>\n",
              "    </tr>\n",
              "    <tr>\n",
              "      <th>2049</th>\n",
              "      <td>@BuzzPatterson When reporting on Biden, it's e...</td>\n",
              "      <td>Non-Hateful</td>\n",
              "    </tr>\n",
              "    <tr>\n",
              "      <th>2330</th>\n",
              "      <td>@artistiicgroove You need help. Praying for yo...</td>\n",
              "      <td>Non-Hateful</td>\n",
              "    </tr>\n",
              "    <tr>\n",
              "      <th>535</th>\n",
              "      <td>@SenKamalaHarris good luck tonight! America is...</td>\n",
              "      <td>Non-Hateful</td>\n",
              "    </tr>\n",
              "    <tr>\n",
              "      <th>416</th>\n",
              "      <td>@politicalfarm @Patriot_Editor He's married to...</td>\n",
              "      <td>Non-Hateful</td>\n",
              "    </tr>\n",
              "  </tbody>\n",
              "</table>\n",
              "</div>\n",
              "      <button class=\"colab-df-convert\" onclick=\"convertToInteractive('df-f5a136e7-6bc1-4828-abe4-92bd12ecb5ae')\"\n",
              "              title=\"Convert this dataframe to an interactive table.\"\n",
              "              style=\"display:none;\">\n",
              "        \n",
              "  <svg xmlns=\"http://www.w3.org/2000/svg\" height=\"24px\"viewBox=\"0 0 24 24\"\n",
              "       width=\"24px\">\n",
              "    <path d=\"M0 0h24v24H0V0z\" fill=\"none\"/>\n",
              "    <path d=\"M18.56 5.44l.94 2.06.94-2.06 2.06-.94-2.06-.94-.94-2.06-.94 2.06-2.06.94zm-11 1L8.5 8.5l.94-2.06 2.06-.94-2.06-.94L8.5 2.5l-.94 2.06-2.06.94zm10 10l.94 2.06.94-2.06 2.06-.94-2.06-.94-.94-2.06-.94 2.06-2.06.94z\"/><path d=\"M17.41 7.96l-1.37-1.37c-.4-.4-.92-.59-1.43-.59-.52 0-1.04.2-1.43.59L10.3 9.45l-7.72 7.72c-.78.78-.78 2.05 0 2.83L4 21.41c.39.39.9.59 1.41.59.51 0 1.02-.2 1.41-.59l7.78-7.78 2.81-2.81c.8-.78.8-2.07 0-2.86zM5.41 20L4 18.59l7.72-7.72 1.47 1.35L5.41 20z\"/>\n",
              "  </svg>\n",
              "      </button>\n",
              "      \n",
              "  <style>\n",
              "    .colab-df-container {\n",
              "      display:flex;\n",
              "      flex-wrap:wrap;\n",
              "      gap: 12px;\n",
              "    }\n",
              "\n",
              "    .colab-df-convert {\n",
              "      background-color: #E8F0FE;\n",
              "      border: none;\n",
              "      border-radius: 50%;\n",
              "      cursor: pointer;\n",
              "      display: none;\n",
              "      fill: #1967D2;\n",
              "      height: 32px;\n",
              "      padding: 0 0 0 0;\n",
              "      width: 32px;\n",
              "    }\n",
              "\n",
              "    .colab-df-convert:hover {\n",
              "      background-color: #E2EBFA;\n",
              "      box-shadow: 0px 1px 2px rgba(60, 64, 67, 0.3), 0px 1px 3px 1px rgba(60, 64, 67, 0.15);\n",
              "      fill: #174EA6;\n",
              "    }\n",
              "\n",
              "    [theme=dark] .colab-df-convert {\n",
              "      background-color: #3B4455;\n",
              "      fill: #D2E3FC;\n",
              "    }\n",
              "\n",
              "    [theme=dark] .colab-df-convert:hover {\n",
              "      background-color: #434B5C;\n",
              "      box-shadow: 0px 1px 3px 1px rgba(0, 0, 0, 0.15);\n",
              "      filter: drop-shadow(0px 1px 2px rgba(0, 0, 0, 0.3));\n",
              "      fill: #FFFFFF;\n",
              "    }\n",
              "  </style>\n",
              "\n",
              "      <script>\n",
              "        const buttonEl =\n",
              "          document.querySelector('#df-f5a136e7-6bc1-4828-abe4-92bd12ecb5ae button.colab-df-convert');\n",
              "        buttonEl.style.display =\n",
              "          google.colab.kernel.accessAllowed ? 'block' : 'none';\n",
              "\n",
              "        async function convertToInteractive(key) {\n",
              "          const element = document.querySelector('#df-f5a136e7-6bc1-4828-abe4-92bd12ecb5ae');\n",
              "          const dataTable =\n",
              "            await google.colab.kernel.invokeFunction('convertToInteractive',\n",
              "                                                     [key], {});\n",
              "          if (!dataTable) return;\n",
              "\n",
              "          const docLinkHtml = 'Like what you see? Visit the ' +\n",
              "            '<a target=\"_blank\" href=https://colab.research.google.com/notebooks/data_table.ipynb>data table notebook</a>'\n",
              "            + ' to learn more about interactive tables.';\n",
              "          element.innerHTML = '';\n",
              "          dataTable['output_type'] = 'display_data';\n",
              "          await google.colab.output.renderOutput(dataTable, element);\n",
              "          const docLink = document.createElement('div');\n",
              "          docLink.innerHTML = docLinkHtml;\n",
              "          element.appendChild(docLink);\n",
              "        }\n",
              "      </script>\n",
              "    </div>\n",
              "  </div>\n",
              "  "
            ]
          },
          "metadata": {}
        },
        {
          "output_type": "stream",
          "name": "stdout",
          "text": [
            "\n",
            "There are 600 tweets in the test dataset.\n",
            "\n",
            "Here's a sample:\n",
            "\n"
          ]
        },
        {
          "output_type": "display_data",
          "data": {
            "text/plain": [
              "                                                  text          HOF\n",
              "365  The #KKK is a #Racist Organization that promot...  Non-Hateful\n",
              "32   I went on a job site today &amp; all everybody...      Hateful\n",
              "525  We know what Biden supports and we know what y...  Non-Hateful\n",
              "174  Help Twitter Fam, I need 50 more FOLLOWERS to ...  Non-Hateful\n",
              "519  It’s #InternationalDayOfPeace [NEWLINE]If you ...  Non-Hateful"
            ],
            "text/html": [
              "\n",
              "  <div id=\"df-c6ec4522-4256-4ba8-90ba-b798c1e0b70b\">\n",
              "    <div class=\"colab-df-container\">\n",
              "      <div>\n",
              "<style scoped>\n",
              "    .dataframe tbody tr th:only-of-type {\n",
              "        vertical-align: middle;\n",
              "    }\n",
              "\n",
              "    .dataframe tbody tr th {\n",
              "        vertical-align: top;\n",
              "    }\n",
              "\n",
              "    .dataframe thead th {\n",
              "        text-align: right;\n",
              "    }\n",
              "</style>\n",
              "<table border=\"1\" class=\"dataframe\">\n",
              "  <thead>\n",
              "    <tr style=\"text-align: right;\">\n",
              "      <th></th>\n",
              "      <th>text</th>\n",
              "      <th>HOF</th>\n",
              "    </tr>\n",
              "  </thead>\n",
              "  <tbody>\n",
              "    <tr>\n",
              "      <th>365</th>\n",
              "      <td>The #KKK is a #Racist Organization that promot...</td>\n",
              "      <td>Non-Hateful</td>\n",
              "    </tr>\n",
              "    <tr>\n",
              "      <th>32</th>\n",
              "      <td>I went on a job site today &amp;amp; all everybody...</td>\n",
              "      <td>Hateful</td>\n",
              "    </tr>\n",
              "    <tr>\n",
              "      <th>525</th>\n",
              "      <td>We know what Biden supports and we know what y...</td>\n",
              "      <td>Non-Hateful</td>\n",
              "    </tr>\n",
              "    <tr>\n",
              "      <th>174</th>\n",
              "      <td>Help Twitter Fam, I need 50 more FOLLOWERS to ...</td>\n",
              "      <td>Non-Hateful</td>\n",
              "    </tr>\n",
              "    <tr>\n",
              "      <th>519</th>\n",
              "      <td>It’s #InternationalDayOfPeace [NEWLINE]If you ...</td>\n",
              "      <td>Non-Hateful</td>\n",
              "    </tr>\n",
              "  </tbody>\n",
              "</table>\n",
              "</div>\n",
              "      <button class=\"colab-df-convert\" onclick=\"convertToInteractive('df-c6ec4522-4256-4ba8-90ba-b798c1e0b70b')\"\n",
              "              title=\"Convert this dataframe to an interactive table.\"\n",
              "              style=\"display:none;\">\n",
              "        \n",
              "  <svg xmlns=\"http://www.w3.org/2000/svg\" height=\"24px\"viewBox=\"0 0 24 24\"\n",
              "       width=\"24px\">\n",
              "    <path d=\"M0 0h24v24H0V0z\" fill=\"none\"/>\n",
              "    <path d=\"M18.56 5.44l.94 2.06.94-2.06 2.06-.94-2.06-.94-.94-2.06-.94 2.06-2.06.94zm-11 1L8.5 8.5l.94-2.06 2.06-.94-2.06-.94L8.5 2.5l-.94 2.06-2.06.94zm10 10l.94 2.06.94-2.06 2.06-.94-2.06-.94-.94-2.06-.94 2.06-2.06.94z\"/><path d=\"M17.41 7.96l-1.37-1.37c-.4-.4-.92-.59-1.43-.59-.52 0-1.04.2-1.43.59L10.3 9.45l-7.72 7.72c-.78.78-.78 2.05 0 2.83L4 21.41c.39.39.9.59 1.41.59.51 0 1.02-.2 1.41-.59l7.78-7.78 2.81-2.81c.8-.78.8-2.07 0-2.86zM5.41 20L4 18.59l7.72-7.72 1.47 1.35L5.41 20z\"/>\n",
              "  </svg>\n",
              "      </button>\n",
              "      \n",
              "  <style>\n",
              "    .colab-df-container {\n",
              "      display:flex;\n",
              "      flex-wrap:wrap;\n",
              "      gap: 12px;\n",
              "    }\n",
              "\n",
              "    .colab-df-convert {\n",
              "      background-color: #E8F0FE;\n",
              "      border: none;\n",
              "      border-radius: 50%;\n",
              "      cursor: pointer;\n",
              "      display: none;\n",
              "      fill: #1967D2;\n",
              "      height: 32px;\n",
              "      padding: 0 0 0 0;\n",
              "      width: 32px;\n",
              "    }\n",
              "\n",
              "    .colab-df-convert:hover {\n",
              "      background-color: #E2EBFA;\n",
              "      box-shadow: 0px 1px 2px rgba(60, 64, 67, 0.3), 0px 1px 3px 1px rgba(60, 64, 67, 0.15);\n",
              "      fill: #174EA6;\n",
              "    }\n",
              "\n",
              "    [theme=dark] .colab-df-convert {\n",
              "      background-color: #3B4455;\n",
              "      fill: #D2E3FC;\n",
              "    }\n",
              "\n",
              "    [theme=dark] .colab-df-convert:hover {\n",
              "      background-color: #434B5C;\n",
              "      box-shadow: 0px 1px 3px 1px rgba(0, 0, 0, 0.15);\n",
              "      filter: drop-shadow(0px 1px 2px rgba(0, 0, 0, 0.3));\n",
              "      fill: #FFFFFF;\n",
              "    }\n",
              "  </style>\n",
              "\n",
              "      <script>\n",
              "        const buttonEl =\n",
              "          document.querySelector('#df-c6ec4522-4256-4ba8-90ba-b798c1e0b70b button.colab-df-convert');\n",
              "        buttonEl.style.display =\n",
              "          google.colab.kernel.accessAllowed ? 'block' : 'none';\n",
              "\n",
              "        async function convertToInteractive(key) {\n",
              "          const element = document.querySelector('#df-c6ec4522-4256-4ba8-90ba-b798c1e0b70b');\n",
              "          const dataTable =\n",
              "            await google.colab.kernel.invokeFunction('convertToInteractive',\n",
              "                                                     [key], {});\n",
              "          if (!dataTable) return;\n",
              "\n",
              "          const docLinkHtml = 'Like what you see? Visit the ' +\n",
              "            '<a target=\"_blank\" href=https://colab.research.google.com/notebooks/data_table.ipynb>data table notebook</a>'\n",
              "            + ' to learn more about interactive tables.';\n",
              "          element.innerHTML = '';\n",
              "          dataTable['output_type'] = 'display_data';\n",
              "          await google.colab.output.renderOutput(dataTable, element);\n",
              "          const docLink = document.createElement('div');\n",
              "          docLink.innerHTML = docLinkHtml;\n",
              "          element.appendChild(docLink);\n",
              "        }\n",
              "      </script>\n",
              "    </div>\n",
              "  </div>\n",
              "  "
            ]
          },
          "metadata": {}
        }
      ],
      "source": [
        "# Colab\n",
        "train = load_data('/ Hate Speech Detection using Deep NLP/train.tsv', label='train')\n",
        "test = load_data('/ Hate Speech Detection using Deep NLP/test.tsv', label='test')"
      ]
    },
    {
      "cell_type": "code",
      "execution_count": 7,
      "id": "82c728a5-f3f6-4358-a7f7-1e4a10e95f02",
      "metadata": {
        "id": "82c728a5-f3f6-4358-a7f7-1e4a10e95f02"
      },
      "outputs": [],
      "source": [
        "# Are there any duplicates?\n",
        "assert len(train['text'].drop_duplicates()) == len(train['text'])\n",
        "assert len(test['text'].drop_duplicates()) == len(test['text'])"
      ]
    },
    {
      "cell_type": "markdown",
      "id": "d0015082-f682-4258-95f7-09317050a424",
      "metadata": {
        "id": "d0015082-f682-4258-95f7-09317050a424"
      },
      "source": [
        "## Quick inspection / visualisation"
      ]
    },
    {
      "cell_type": "code",
      "execution_count": 8,
      "id": "GFaUGVtu1zY_",
      "metadata": {
        "id": "GFaUGVtu1zY_",
        "colab": {
          "base_uri": "https://localhost:8080/"
        },
        "outputId": "9180936c-b2cb-47ee-8299-9001e796a4fa"
      },
      "outputs": [
        {
          "output_type": "stream",
          "name": "stdout",
          "text": [
            "Looking in indexes: https://pypi.org/simple, https://us-python.pkg.dev/colab-wheels/public/simple/\n",
            "Requirement already satisfied: matplotlib in /usr/local/lib/python3.9/dist-packages (3.7.1)\n",
            "Requirement already satisfied: python-dateutil>=2.7 in /usr/local/lib/python3.9/dist-packages (from matplotlib) (2.8.2)\n",
            "Requirement already satisfied: importlib-resources>=3.2.0 in /usr/local/lib/python3.9/dist-packages (from matplotlib) (5.12.0)\n",
            "Requirement already satisfied: fonttools>=4.22.0 in /usr/local/lib/python3.9/dist-packages (from matplotlib) (4.39.3)\n",
            "Requirement already satisfied: pillow>=6.2.0 in /usr/local/lib/python3.9/dist-packages (from matplotlib) (8.4.0)\n",
            "Requirement already satisfied: numpy>=1.20 in /usr/local/lib/python3.9/dist-packages (from matplotlib) (1.22.4)\n",
            "Requirement already satisfied: packaging>=20.0 in /usr/local/lib/python3.9/dist-packages (from matplotlib) (23.0)\n",
            "Requirement already satisfied: kiwisolver>=1.0.1 in /usr/local/lib/python3.9/dist-packages (from matplotlib) (1.4.4)\n",
            "Requirement already satisfied: pyparsing>=2.3.1 in /usr/local/lib/python3.9/dist-packages (from matplotlib) (3.0.9)\n",
            "Requirement already satisfied: cycler>=0.10 in /usr/local/lib/python3.9/dist-packages (from matplotlib) (0.11.0)\n",
            "Requirement already satisfied: contourpy>=1.0.1 in /usr/local/lib/python3.9/dist-packages (from matplotlib) (1.0.7)\n",
            "Requirement already satisfied: zipp>=3.1.0 in /usr/local/lib/python3.9/dist-packages (from importlib-resources>=3.2.0->matplotlib) (3.15.0)\n",
            "Requirement already satisfied: six>=1.5 in /usr/local/lib/python3.9/dist-packages (from python-dateutil>=2.7->matplotlib) (1.16.0)\n"
          ]
        }
      ],
      "source": [
        "!pip install matplotlib --upgrade"
      ]
    },
    {
      "cell_type": "code",
      "execution_count": 9,
      "id": "873a9381-da14-47f0-8bda-729af7e96705",
      "metadata": {
        "colab": {
          "base_uri": "https://localhost:8080/",
          "height": 406
        },
        "id": "873a9381-da14-47f0-8bda-729af7e96705",
        "outputId": "c91a7b62-d55f-4d47-d71d-bd7e59503e75"
      },
      "outputs": [
        {
          "output_type": "display_data",
          "data": {
            "text/plain": [
              "<Figure size 1000x400 with 2 Axes>"
            ],
            "image/png": "[encoded data removed]"
          },
          "metadata": {}
        }
      ],
      "source": [
        "fig, ax = plt.subplots(1, 2, figsize=(10, 4))\n",
        "\n",
        "# Distribution by class\n",
        "ax[0].bar(x = train['HOF'].unique(), # Data labels\n",
        "       height = train['HOF'].value_counts().values, # Num of tweets in each category\n",
        "       color='purple')\n",
        "\n",
        "ax[0].bar_label(ax[0].containers[0], label_type='edge', padding=3) # Annotate bars\n",
        "ax[0].set_ylim(0, 2300) # Raise upper limit of y-axis, to accommodate labels\n",
        "\n",
        "ax[0].set_title(\"Number of hateful/non-hateful tweets in the train dataset\", \n",
        "             fontweight='bold', fontsize=10, y = 1.02)\n",
        "ax[0].set_ylabel(\"Number of tweets\")\n",
        "ax[0].set_xlabel('Tweet label')\n",
        "\n",
        "# Distribution by length\n",
        "ax[1].hist([len(tweet) for tweet in train['text'].apply(lambda x: x.split())], \n",
        "           color='orange', rwidth=0.8)\n",
        "ax[1].set_xlabel('Token count')\n",
        "ax[1].set_ylabel('Number of tweets')\n",
        "ax[1].set_title(\"Histogram of tweet length\", \n",
        "                fontweight='bold', fontsize=10, y = 1.02)\n",
        "\n",
        "\n",
        "plt.tight_layout()\n",
        "plt.show()"
      ]
    },
    {
      "cell_type": "markdown",
      "id": "00ac50bc-50b4-4618-813e-251c736e1e53",
      "metadata": {
        "id": "00ac50bc-50b4-4618-813e-251c736e1e53"
      },
      "source": [
        "## Preprocess data\n",
        "At this stage, I will just map the labels to integers. Later, I will conduct more preprocessing."
      ]
    },
    {
      "cell_type": "code",
      "execution_count": 10,
      "id": "066df694-72b8-413e-88d1-c264b33f8488",
      "metadata": {
        "id": "066df694-72b8-413e-88d1-c264b33f8488"
      },
      "outputs": [],
      "source": [
        "# Map labels to binary integers\n",
        "label2id = {'Non-Hateful': 0, 'Hateful': 1}\n",
        "train['HOF'] = train['HOF'].apply(lambda x: label2id[x])\n",
        "test['HOF'] = test['HOF'].apply(lambda x: label2id[x])"
      ]
    },
    {
      "cell_type": "markdown",
      "id": "d9879452-c9a7-4920-9593-80d9c6c0c88c",
      "metadata": {
        "id": "d9879452-c9a7-4920-9593-80d9c6c0c88c"
      },
      "source": [
        "## Deal with class imbalances\n",
        "For simplicity / for now, I'll just downsample from the majority ('Non-Hateful') class."
      ]
    },
    {
      "cell_type": "code",
      "execution_count": 11,
      "id": "1087ed2d-0e52-47ef-b505-aa20a93e7128",
      "metadata": {
        "colab": {
          "base_uri": "https://localhost:8080/"
        },
        "id": "1087ed2d-0e52-47ef-b505-aa20a93e7128",
        "outputId": "112f0b12-d394-449c-8be0-d548d85f1107"
      },
      "outputs": [
        {
          "output_type": "stream",
          "name": "stdout",
          "text": [
            "Before downsampling: \n",
            "Hateful: 293\n",
            "Non-Hateful: 2107\n",
            "\n",
            "After downsampling: \n",
            "Hateful: 293\n",
            "Non-Hateful: 293\n"
          ]
        }
      ],
      "source": [
        "print('Before downsampling: ')\n",
        "print(f\"Hateful: {len(train[train['HOF']==1])}\")\n",
        "print(f\"Non-Hateful: {len(train[train['HOF']==0])}\")\n",
        "\n",
        "train_hateful = train[train['HOF']==1]\n",
        "train_nonhateful = train[train['HOF']==0].sample(len(train_hateful))\n",
        "train_downsampled = pd.concat([train_hateful, train_nonhateful], axis=0).sample(frac=1)\n",
        "\n",
        "print('\\nAfter downsampling: ')\n",
        "print(f\"Hateful: {len(train_downsampled[train_downsampled['HOF']==1])}\")\n",
        "print(f\"Non-Hateful: {len(train_downsampled[train_downsampled['HOF']==0])}\")"
      ]
    },
    {
      "cell_type": "markdown",
      "id": "45c14cfc-644a-4ec0-a8cb-1125cd0ebd2d",
      "metadata": {
        "id": "45c14cfc-644a-4ec0-a8cb-1125cd0ebd2d"
      },
      "source": [
        "## Split train data set into train and development sets\n",
        "To provide a way to assess the model's performance after each training loop."
      ]
    },
    {
      "cell_type": "code",
      "execution_count": 12,
      "id": "4d200564-3749-4a4a-a791-0f7bacaecf31",
      "metadata": {
        "id": "4d200564-3749-4a4a-a791-0f7bacaecf31"
      },
      "outputs": [],
      "source": [
        "# Split train data set into train and development sets\n",
        "train, dev = train_test_split(train_downsampled, test_size=0.5, stratify=train_downsampled['HOF'])"
      ]
    },
    {
      "cell_type": "markdown",
      "id": "dca382a5-9690-4b01-9d84-719637414aec",
      "metadata": {
        "id": "dca382a5-9690-4b01-9d84-719637414aec"
      },
      "source": [
        "## Prepare data\n",
        "\n",
        "Before we can build and train our model, we need to convert the text and labels into a format that is acceptable for the model. To do this, we need two tools: \n",
        "* `torch.utils.data.Dataset` - stores the samples and their corresponding labels. I also use it to create a simple pipeline for cleaning and tokenizing the tweets. I will use the `bert-base-uncased` tokenizer so that the tokenizer matches the model. This is because (1) the model has a specific, fixed vocabulary, and (2) the BERT tokenizer has a particular way of handling out-of-vocabulary words. \n",
        "* `torch.utils.data.DataLoader` - wraps an iterable around the `Dataset`, enabling us to iterate through the samples. Can also be used to transform the data (if you provide a custom `collate_fn`). \n"
      ]
    },
    {
      "cell_type": "code",
      "execution_count": 13,
      "id": "4abbc280-c5ae-450d-9b38-b916b676d2f4",
      "metadata": {
        "id": "4abbc280-c5ae-450d-9b38-b916b676d2f4"
      },
      "outputs": [],
      "source": [
        "# Clean the tweets' text\n",
        "def clean_text(tweet):\n",
        "    \"\"\"A function that performs basic cleaning of a tweet's text.\n",
        "    \"\"\"\n",
        "    \n",
        "    # Replace mentions and URLs with special token\n",
        "    tweet = re.sub(r\"@[A-Za-z0-9_-]+\",'USR',tweet)\n",
        "    tweet = re.sub(r\"http\\S+\",'URL',tweet)\n",
        "    \n",
        "    # Remove \\n and \\t characters\n",
        "    tweet = tweet.replace('\\n', ' ')\n",
        "    tweet = tweet.replace('[NEWLINE]', ' ')\n",
        "    tweet = tweet.replace('\\t', ' ')\n",
        "    \n",
        "    # Strip whitespace\n",
        "    tweet = tweet.strip()\n",
        "    \n",
        "    # Convert to lowercase\n",
        "    tweet = tweet.lower()\n",
        "    \n",
        "    # return [w.strip(punctuation) for w in tweet.split() if w.strip(punctuation)!='']\n",
        "    return tweet\n",
        "\n",
        "# train['cleaned_text'] = train['text'].apply(lambda x: clean_text(x))\n",
        "# test['cleaned_text'] = test['text'].apply(lambda x: clean_text(x))"
      ]
    },
    {
      "cell_type": "code",
      "execution_count": 14,
      "id": "0888abca-b22f-4c39-9818-dd5d21da546f",
      "metadata": {
        "id": "0888abca-b22f-4c39-9818-dd5d21da546f",
        "tags": []
      },
      "outputs": [],
      "source": [
        "# Define Dataset class which cleans, tokenizes and encodes data\n",
        "class BERTDataset(Dataset):\n",
        "    \n",
        "    def __init__(self, data):\n",
        "        \n",
        "        # Initialize BERT tokenizer\n",
        "        # Note that I need to specify cache_dir because I'm using a venv\n",
        "        self.tok = BertTokenizer.from_pretrained('bert-base-uncased', cache_dir=Path.cwd()/'venv/lib/python3.8/site-packages')\n",
        "        \n",
        "        # Clean tweets\n",
        "        self.cleaned_tweets = data['text'].apply(lambda x: clean_text(x))\n",
        "        \n",
        "        # Truncate and encode tweets, up to max_length of 60\n",
        "        # While this is lower than BERT's max (512), it was chosen for computational speed\n",
        "        self.tweets = list(self.cleaned_tweets.apply(self.tok.encode, max_length=60, truncation=True))\n",
        "        \n",
        "        # Store labels\n",
        "        self.labels = list(data['HOF'])\n",
        "        \n",
        "    def __len__(self):\n",
        "        return len(self.labels)\n",
        "    \n",
        "    def __getitem__(self, idx):\n",
        "        tweet = self.tweets[idx]\n",
        "        label = self.labels[idx]\n",
        "        return tweet, label\n",
        "    \n",
        "# Inspect an example\n",
        "# BD = BERTDataset(train.iloc[:5])\n",
        "# next(iter(BD))"
      ]
    },
    {
      "cell_type": "code",
      "execution_count": 15,
      "id": "57e6c0f5-b979-4caa-a028-efada141ee4f",
      "metadata": {
        "id": "57e6c0f5-b979-4caa-a028-efada141ee4f"
      },
      "outputs": [],
      "source": [
        "# Define collate function to be passed to DataLoader\n",
        "def bert_collate(batch):\n",
        "    \n",
        "    # Store batch size\n",
        "    batch_size = len(batch)\n",
        "    \n",
        "    # Separate tweets and labels\n",
        "    tweets = [t for t, _ in batch]\n",
        "    labels = torch.tensor([l for _, l in batch]).long()\n",
        "    \n",
        "    # Store length of longest tweet in batch\n",
        "    max_len = max(len(t) for t in tweets)\n",
        "    \n",
        "    # Create padded tweet and attention mask tensors\n",
        "    tweets_pad = torch.zeros((batch_size, max_len)).long()\n",
        "    masks_pad = torch.zeros((batch_size, max_len)).long()\n",
        "    for i, t in enumerate(tweets):\n",
        "        tweets_pad[i, :len(t)] = torch.tensor(t)\n",
        "        masks_pad[i, :len(t)] = 1\n",
        "        \n",
        "    return tweets_pad, masks_pad, labels"
      ]
    },
    {
      "cell_type": "code",
      "execution_count": 16,
      "id": "3be599e0-0659-455e-96ed-c11605c9449b",
      "metadata": {
        "colab": {
          "base_uri": "https://localhost:8080/",
          "height": 148,
          "referenced_widgets": [
            "40039568cb124236ba764b8c5a51e2d2",
            "534da12f87794194b749f0c92bcc5008",
            "e3acdc6b6eb84faf9525f0353775d000",
            "ee2ad287987744cb9eeebe11d7731ef8",
            "44c81ebccccc4530bb11a93775c51bcb",
            "4b368b067df54397a61d2ddf67e939f9",
            "1abb440779ab4dce849de4a087cbe300",
            "5f63e1cda3054c43844960ea681a26da",
            "23fd9c24c9ac46f583610b320397db81",
            "bd52ab54fcec4b75924a983807354609",
            "96b427fdf8144c859d69cf4298d6c3c9",
            "00dc260e65e6463d8986c0e143c37213",
            "e641296b04774a77b7b2f959850ce9a7",
            "04a5610d93294db68a3a7d3f31560bc2",
            "11bff7dd9a0e4fa3a0160573cd31cff9",
            "eefb5fbcb03341879927dd446d299800",
            "d67b6195d031443f86452590ec8146cb",
            "36fc614a9519493bafa377261ddfbc3a",
            "51f822a3e5ea45e7b72588268cbcdfc7",
            "258914564cd94cb29be3a1a2e078418a",
            "a64299b133c4435792fae979d9430590",
            "c59852f740e04d44b11645608675fb85",
            "da530c60b2104709a81681bd1c6f7628",
            "43038d941c20454c8898eebd46d152fe",
            "8d9353f603cb4252a8ed2ac16c03b870",
            "70c6470b79644648bae5add0ce5eaf2b",
            "2ccee4e302414567bf63c58ae28d2238",
            "9bcbbfe80c364ecdbcc02aa99caa52ec",
            "dac54a001d1c43afb3a835ba39e347a8",
            "cbdf55c34c3041909ca8c9037c46fa91",
            "2b3653bc844c4300a7b16ebd06b3d5c3",
            "ec6774f5df8a45c9990f3f2f1892aa60",
            "4ec7ccfbae9d45ff85b290196a5e0389"
          ]
        },
        "id": "3be599e0-0659-455e-96ed-c11605c9449b",
        "outputId": "3419589a-2af0-49cd-95a6-436e6a3d7e0d"
      },
      "outputs": [
        {
          "output_type": "display_data",
          "data": {
            "text/plain": [
              "Downloading (…)solve/main/vocab.txt:   0%|          | 0.00/232k [00:00<?, ?B/s]"
            ],
            "application/vnd.jupyter.widget-view+json": {
              "version_major": 2,
              "version_minor": 0,
              "model_id": "40039568cb124236ba764b8c5a51e2d2"
            }
          },
          "metadata": {}
        },
        {
          "output_type": "display_data",
          "data": {
            "text/plain": [
              "Downloading (…)okenizer_config.json:   0%|          | 0.00/28.0 [00:00<?, ?B/s]"
            ],
            "application/vnd.jupyter.widget-view+json": {
              "version_major": 2,
              "version_minor": 0,
              "model_id": "00dc260e65e6463d8986c0e143c37213"
            }
          },
          "metadata": {}
        },
        {
          "output_type": "display_data",
          "data": {
            "text/plain": [
              "Downloading (…)lve/main/config.json:   0%|          | 0.00/570 [00:00<?, ?B/s]"
            ],
            "application/vnd.jupyter.widget-view+json": {
              "version_major": 2,
              "version_minor": 0,
              "model_id": "da530c60b2104709a81681bd1c6f7628"
            }
          },
          "metadata": {}
        },
        {
          "output_type": "stream",
          "name": "stdout",
          "text": [
            "CPU times: user 1.98 s, sys: 35.7 ms, total: 2.02 s\n",
            "Wall time: 3.31 s\n"
          ]
        }
      ],
      "source": [
        "%%time\n",
        "\n",
        "# Create data sets\n",
        "train_dataset = BERTDataset(train)\n",
        "dev_dataset = BERTDataset(dev)\n",
        "test_dataset = BERTDataset(test)"
      ]
    },
    {
      "cell_type": "code",
      "execution_count": 17,
      "id": "e06f9d8d-92f3-4ea3-b8ea-cf7f6a149c4c",
      "metadata": {
        "id": "e06f9d8d-92f3-4ea3-b8ea-cf7f6a149c4c"
      },
      "outputs": [],
      "source": [
        "# Create data loaders using torch.utils.data.DataLoader class\n",
        "# Using shuffle=True instead of specifying RandomSampler\n",
        "train_loader = DataLoader(train_dataset, batch_size=100, collate_fn=bert_collate, shuffle=True)\n",
        "dev_loader = DataLoader(dev_dataset, batch_size=100, collate_fn=bert_collate)\n",
        "test_loader = DataLoader(test_dataset, batch_size=100, collate_fn=bert_collate)"
      ]
    },
    {
      "cell_type": "code",
      "execution_count": 18,
      "id": "0183c520-d528-4012-859d-4b66e103f0ed",
      "metadata": {
        "collapsed": true,
        "id": "0183c520-d528-4012-859d-4b66e103f0ed",
        "jupyter": {
          "outputs_hidden": true,
          "source_hidden": true
        },
        "tags": [],
        "colab": {
          "base_uri": "https://localhost:8080/"
        },
        "outputId": "f82b5023-9048-4484-bb34-2d8762ee4d47"
      },
      "outputs": [
        {
          "output_type": "stream",
          "name": "stdout",
          "text": [
            "\n",
            "\n",
            "--------------------- Batch 0 ---------------------\n",
            "\n",
            "There are 100 encoded tweets in this batch.\n",
            "Tweets (encoded):  tensor([[  101,  2065, 17183,  ...,     0,     0,     0],\n",
            "        [  101,  4067,  2017,  ...,     0,     0,     0],\n",
            "        [  101,  2149,  2099,  ...,     0,     0,     0],\n",
            "        ...,\n",
            "        [  101,  7226,  2368,  ...,     0,     0,     0],\n",
            "        [  101,  2916, 11371,  ...,     0,     0,     0],\n",
            "        [  101, 17542,  2035,  ...,     0,     0,     0]])\n",
            "There are 100 encoded labels in this batch. Here they are: \n",
            "Labels:  tensor([1, 1, 0, 0, 1, 1, 0, 0, 1, 0, 0, 1, 1, 1, 0, 0, 0, 1, 1, 0, 1, 0, 1, 0,\n",
            "        0, 1, 0, 1, 1, 1, 0, 1, 0, 0, 1, 0, 0, 0, 1, 0, 0, 1, 1, 1, 0, 1, 0, 1,\n",
            "        1, 0, 0, 1, 1, 1, 0, 0, 0, 0, 1, 0, 0, 1, 0, 0, 1, 0, 1, 1, 1, 1, 1, 0,\n",
            "        1, 1, 0, 1, 0, 0, 1, 0, 0, 1, 0, 0, 1, 1, 0, 0, 0, 0, 1, 0, 1, 0, 0, 0,\n",
            "        1, 1, 0, 1])\n",
            "\n",
            "\n",
            "--------------------- Batch 1 ---------------------\n",
            "\n",
            "There are 100 encoded tweets in this batch.\n",
            "Tweets (encoded):  tensor([[  101,  2149,  2099,  ...,     0,     0,     0],\n",
            "        [  101,  2002,  1521,  ...,     0,     0,     0],\n",
            "        [  101,  2149,  2099,  ...,  8398, 14268,   102],\n",
            "        ...,\n",
            "        [  101,  5671,  2006,  ...,     0,     0,     0],\n",
            "        [  101,  2149,  2099,  ...,  2368,  8167,   102],\n",
            "        [  101,  5171, 19424,  ...,     0,     0,     0]])\n",
            "There are 100 encoded labels in this batch. Here they are: \n",
            "Labels:  tensor([1, 0, 1, 0, 1, 1, 0, 1, 0, 0, 1, 0, 1, 1, 1, 1, 0, 0, 1, 1, 1, 0, 0, 0,\n",
            "        0, 1, 0, 1, 0, 0, 1, 0, 0, 1, 1, 0, 1, 1, 1, 0, 1, 0, 1, 1, 0, 1, 1, 0,\n",
            "        0, 1, 0, 0, 1, 1, 0, 1, 0, 0, 0, 0, 1, 0, 0, 0, 0, 0, 1, 0, 0, 1, 1, 1,\n",
            "        1, 0, 1, 0, 1, 1, 0, 0, 1, 0, 1, 0, 0, 1, 0, 1, 1, 1, 0, 1, 0, 1, 1, 0,\n",
            "        0, 0, 0, 1])\n",
            "\n",
            "\n",
            "--------------------- Batch 2 ---------------------\n",
            "\n",
            "There are 93 encoded tweets in this batch.\n",
            "Tweets (encoded):  tensor([[ 101, 2149, 2099,  ...,    0,    0,    0],\n",
            "        [ 101, 1044, 1011,  ...,    0,    0,    0],\n",
            "        [ 101, 2149, 2099,  ...,    0,    0,    0],\n",
            "        ...,\n",
            "        [ 101, 2867, 2633,  ...,    0,    0,    0],\n",
            "        [ 101, 2149, 2099,  ...,    0,    0,    0],\n",
            "        [ 101, 1045, 2428,  ...,    0,    0,    0]])\n",
            "There are 93 encoded labels in this batch. Here they are: \n",
            "Labels:  tensor([1, 0, 1, 1, 0, 0, 0, 1, 1, 1, 0, 1, 0, 1, 0, 1, 0, 1, 0, 1, 0, 1, 1, 0,\n",
            "        0, 1, 0, 1, 1, 1, 0, 0, 0, 1, 1, 0, 1, 1, 0, 0, 1, 1, 0, 1, 0, 0, 1, 1,\n",
            "        0, 0, 0, 1, 0, 1, 0, 0, 1, 1, 1, 1, 0, 1, 0, 1, 0, 0, 0, 1, 1, 1, 1, 0,\n",
            "        0, 1, 1, 1, 1, 0, 1, 1, 0, 0, 0, 1, 0, 1, 1, 1, 0, 1, 0, 0, 1])\n"
          ]
        }
      ],
      "source": [
        "# Inspect\n",
        "for (idx, batch) in enumerate(train_loader):\n",
        "\n",
        "    print(f'\\n\\n--------------------- Batch {idx} ---------------------\\n')\n",
        "    \n",
        "    # Print the text\n",
        "    print(f\"There are {len(batch[0])} encoded tweets in this batch.\")\n",
        "    print('Tweets (encoded): ', batch[0])\n",
        "\n",
        "    # Print the label\n",
        "    print(f\"There are {len(batch[2])} encoded labels in this batch. Here they are: \")\n",
        "    print('Labels: ', batch[2])"
      ]
    },
    {
      "cell_type": "code",
      "execution_count": 19,
      "id": "31a5d582-1871-4060-89e4-f9309672d486",
      "metadata": {
        "id": "31a5d582-1871-4060-89e4-f9309672d486"
      },
      "outputs": [],
      "source": [
        "# Define BERT classifier\n",
        "class BERTClassifier(nn.Module):\n",
        "    \n",
        "    def __init__(self):\n",
        "        \n",
        "        # Specify network layers\n",
        "        # Note that I need to specify cache as I'm using a venv\n",
        "        super(BERTClassifier, self).__init__()\n",
        "        self.bert = BertModel.from_pretrained('bert-base-uncased', cache_dir=Path.cwd()/'venv/lib/python3.8/site-packages')\n",
        "        self.linear = nn.Linear(768, 4)\n",
        "        \n",
        "        # Define dropout\n",
        "        self.dropout = nn.Dropout(0.2)\n",
        "        \n",
        "        # Freeze BERT layers\n",
        "        for n, p in self.bert.named_parameters():\n",
        "            p.requires_grad = False\n",
        "            \n",
        "    def forward(self, tweets, masks):\n",
        "        \n",
        "        # Define flow of tensors through the network\n",
        "        output_bert = self.bert(tweets, attention_mask=masks)[0].mean(axis=1)\n",
        "        return self.linear(self.dropout(output_bert))"
      ]
    },
    {
      "cell_type": "code",
      "execution_count": 20,
      "id": "b06d91fe-61c5-41e4-b898-df69453cd32e",
      "metadata": {
        "colab": {
          "base_uri": "https://localhost:8080/",
          "height": 121,
          "referenced_widgets": [
            "3a60cf48ccdd49b084afd263e27e92b1",
            "290ee1aa80884ef8946159f24e6ba7cd",
            "8b050b5f9e7a40189b488c5558ccf2c0",
            "11c72173118f4f068b5de6c0bfc114ba",
            "eb3b3d43e85e4dd099affedd5d02134a",
            "157fcab1f3ce4123b3fc6ac8e83ffa6d",
            "84328ac1a9594029940deec00d1cf5e7",
            "87533ed8786448b3b455a3ce2c8f88ba",
            "0d7abe89f911460d8faaba3937889fe7",
            "048b171908d149e2af89d167be065657",
            "afc9d65a1c8b453dbfdec16dd2d8be8e"
          ]
        },
        "id": "b06d91fe-61c5-41e4-b898-df69453cd32e",
        "outputId": "c50ca607-78c9-4d01-88f0-144c65858b12"
      },
      "outputs": [
        {
          "output_type": "display_data",
          "data": {
            "text/plain": [
              "Downloading pytorch_model.bin:   0%|          | 0.00/440M [00:00<?, ?B/s]"
            ],
            "application/vnd.jupyter.widget-view+json": {
              "version_major": 2,
              "version_minor": 0,
              "model_id": "3a60cf48ccdd49b084afd263e27e92b1"
            }
          },
          "metadata": {}
        },
        {
          "output_type": "stream",
          "name": "stderr",
          "text": [
            "Some weights of the model checkpoint at bert-base-uncased were not used when initializing BertModel: ['cls.predictions.bias', 'cls.seq_relationship.weight', 'cls.predictions.transform.LayerNorm.bias', 'cls.predictions.transform.dense.weight', 'cls.predictions.decoder.weight', 'cls.predictions.transform.LayerNorm.weight', 'cls.predictions.transform.dense.bias', 'cls.seq_relationship.bias']\n",
            "- This IS expected if you are initializing BertModel from the checkpoint of a model trained on another task or with another architecture (e.g. initializing a BertForSequenceClassification model from a BertForPreTraining model).\n",
            "- This IS NOT expected if you are initializing BertModel from the checkpoint of a model that you expect to be exactly identical (initializing a BertForSequenceClassification model from a BertForSequenceClassification model).\n"
          ]
        }
      ],
      "source": [
        "# Initialise model\n",
        "model = BERTClassifier()"
      ]
    },
    {
      "cell_type": "markdown",
      "id": "407b8317-9e4c-4978-b7fb-c16c8fa840fa",
      "metadata": {
        "id": "407b8317-9e4c-4978-b7fb-c16c8fa840fa"
      },
      "source": [
        "The warning above: This only means that the pretrained head of the BERT model is discarded, and replaced with a randomly initialised classification head. It doesn't matter that this is randomly initialised because we will now fine-tune this new model head via training below. "
      ]
    },
    {
      "cell_type": "code",
      "execution_count": 21,
      "id": "87742036-3111-4fe1-a096-4e0be8e2fd03",
      "metadata": {
        "id": "87742036-3111-4fe1-a096-4e0be8e2fd03"
      },
      "outputs": [],
      "source": [
        "# Move model to device\n",
        "model = model.to(device)"
      ]
    },
    {
      "cell_type": "code",
      "execution_count": 22,
      "id": "5c1edb0b-dc7f-4bc4-ba17-9ef101dcd947",
      "metadata": {
        "id": "5c1edb0b-dc7f-4bc4-ba17-9ef101dcd947"
      },
      "outputs": [],
      "source": [
        "# Define optimiser, objective function and epochs\n",
        "optimizer = optim.Adam(model.parameters(), lr=0.01)\n",
        "criterion = nn.CrossEntropyLoss()\n",
        "epochs = 5"
      ]
    },
    {
      "cell_type": "code",
      "execution_count": 23,
      "id": "16c17511-01e1-4356-bdbc-8ecfc61594a5",
      "metadata": {
        "colab": {
          "base_uri": "https://localhost:8080/"
        },
        "id": "16c17511-01e1-4356-bdbc-8ecfc61594a5",
        "outputId": "20675027-b71d-49b3-97b9-63d1c19e687a"
      },
      "outputs": [
        {
          "output_type": "stream",
          "name": "stderr",
          "text": [
            "100%|██████████| 3/3 [00:04<00:00,  1.56s/it]\n"
          ]
        },
        {
          "output_type": "stream",
          "name": "stdout",
          "text": [
            "Accuracy after 1 epoch(s): 0.5221843003412969\n"
          ]
        },
        {
          "output_type": "stream",
          "name": "stderr",
          "text": [
            "100%|██████████| 3/3 [00:00<00:00,  3.21it/s]\n"
          ]
        },
        {
          "output_type": "stream",
          "name": "stdout",
          "text": [
            "Accuracy after 2 epoch(s): 0.5938566552901023\n"
          ]
        },
        {
          "output_type": "stream",
          "name": "stderr",
          "text": [
            "100%|██████████| 3/3 [00:00<00:00,  3.38it/s]\n"
          ]
        },
        {
          "output_type": "stream",
          "name": "stdout",
          "text": [
            "Accuracy after 3 epoch(s): 0.6689419795221843\n"
          ]
        },
        {
          "output_type": "stream",
          "name": "stderr",
          "text": [
            "100%|██████████| 3/3 [00:00<00:00,  3.36it/s]\n"
          ]
        },
        {
          "output_type": "stream",
          "name": "stdout",
          "text": [
            "Accuracy after 4 epoch(s): 0.6723549488054608\n",
            "CPU times: user 4.56 s, sys: 161 ms, total: 4.72 s\n",
            "Wall time: 11 s\n"
          ]
        }
      ],
      "source": [
        "%%time\n",
        "\n",
        "# Train model\n",
        "for epoch_i in range(1, epochs):\n",
        "    \n",
        "    # ========================================\n",
        "    #               Training\n",
        "    # ========================================\n",
        "        \n",
        "    # Put model into training mode. This is necessary so that the `Dropout`\n",
        "    # layers are activated. \n",
        "    model.train()\n",
        "    \n",
        "    # For each batch of the training data...\n",
        "    for i, batch in enumerate(tqdm(train_loader)):\n",
        "        \n",
        "        # Step 1. Since PyTorch accumulates gradients, clear any previously\n",
        "        # calculated gradients before performing a backward pass.\n",
        "        # PyTorch doesn't do this automatically because it can be useful while\n",
        "        # training RNNs.\n",
        "        optimizer.zero_grad()\n",
        "        \n",
        "        # Step 2. Extract data and move to device.\n",
        "        tweets, masks, labels = [t.to(device) for t in batch]\n",
        "        \n",
        "        # Step 3. Forward pass - note that calling `model()` will in turn call\n",
        "        # the model's `forward()` function.\n",
        "        output = model(tweets, masks)\n",
        "        \n",
        "        # Step 4. Compute loss.\n",
        "        loss = criterion(output, labels)\n",
        "        \n",
        "        # Step 5. Perform backward pass to calculate gradients wrt each w and b term. \n",
        "        loss.backward()\n",
        "        \n",
        "        # Step 6. Clip the norm of the gradients to 1.0.\n",
        "        # This is to help prevent the \"exploding gradients\" problem.\n",
        "        torch.nn.utils.clip_grad_norm_(model.parameters(), 1.0)\n",
        "        \n",
        "        # Step 7. Update parameters and take a step using the computed gradient.\n",
        "        optimizer.step()\n",
        "        \n",
        "    # ========================================\n",
        "    #               Validation\n",
        "    # ========================================\n",
        "    \n",
        "    # After the completion of each training epoch, measure our performance on\n",
        "    # our validation set.\n",
        "    # Put model into evaluation mode, thereby deactivating Dropout layer.\n",
        "    model.eval()\n",
        "    \n",
        "    y_true = list()\n",
        "    y_pred = list()\n",
        "    \n",
        "    with torch.no_grad(): # We no longer need it to store computation graph.\n",
        "        for batch in dev_loader:\n",
        "            tweets, masks, labels = [t.to(device) for t in batch]\n",
        "            output = model(tweets, masks)\n",
        "            max_output = output.argmax(dim=1)\n",
        "            y_true.extend(labels.tolist())\n",
        "            y_pred.extend(max_output.tolist())\n",
        "            \n",
        "    print(f\"Accuracy after {epoch_i} epoch(s): {accuracy_score(y_true, y_pred)}\")"
      ]
    },
    {
      "cell_type": "code",
      "execution_count": 24,
      "id": "402beb9a-c8d5-4f89-a06f-59850751da81",
      "metadata": {
        "colab": {
          "base_uri": "https://localhost:8080/",
          "height": 407
        },
        "id": "402beb9a-c8d5-4f89-a06f-59850751da81",
        "outputId": "f06188c6-e7ac-41e1-a167-cff52b448be5"
      },
      "outputs": [
        {
          "output_type": "stream",
          "name": "stdout",
          "text": [
            "Test accuracy: 0.59\n",
            "\n",
            "Classification report: \n",
            "               precision    recall  f1-score   support\n",
            "\n",
            "           0       0.98      0.55      0.71       541\n",
            "           1       0.18      0.90      0.30        59\n",
            "\n",
            "    accuracy                           0.59       600\n",
            "   macro avg       0.58      0.73      0.50       600\n",
            "weighted avg       0.90      0.59      0.67       600\n",
            "\n",
            "\n",
            "Confusion matrix: \n",
            "\n"
          ]
        },
        {
          "output_type": "display_data",
          "data": {
            "text/plain": [
              "                   Predicted: Unhateful  Predicted: Hateful\n",
              "Actual: Unhateful                   299                 242\n",
              "Actual: Hateful                       6                  53"
            ],
            "text/html": [
              "\n",
              "  <div id=\"df-b9795ae2-83e6-419a-9b6a-1bd7d19c3c44\">\n",
              "    <div class=\"colab-df-container\">\n",
              "      <div>\n",
              "<style scoped>\n",
              "    .dataframe tbody tr th:only-of-type {\n",
              "        vertical-align: middle;\n",
              "    }\n",
              "\n",
              "    .dataframe tbody tr th {\n",
              "        vertical-align: top;\n",
              "    }\n",
              "\n",
              "    .dataframe thead th {\n",
              "        text-align: right;\n",
              "    }\n",
              "</style>\n",
              "<table border=\"1\" class=\"dataframe\">\n",
              "  <thead>\n",
              "    <tr style=\"text-align: right;\">\n",
              "      <th></th>\n",
              "      <th>Predicted: Unhateful</th>\n",
              "      <th>Predicted: Hateful</th>\n",
              "    </tr>\n",
              "  </thead>\n",
              "  <tbody>\n",
              "    <tr>\n",
              "      <th>Actual: Unhateful</th>\n",
              "      <td>299</td>\n",
              "      <td>242</td>\n",
              "    </tr>\n",
              "    <tr>\n",
              "      <th>Actual: Hateful</th>\n",
              "      <td>6</td>\n",
              "      <td>53</td>\n",
              "    </tr>\n",
              "  </tbody>\n",
              "</table>\n",
              "</div>\n",
              "      <button class=\"colab-df-convert\" onclick=\"convertToInteractive('df-b9795ae2-83e6-419a-9b6a-1bd7d19c3c44')\"\n",
              "              title=\"Convert this dataframe to an interactive table.\"\n",
              "              style=\"display:none;\">\n",
              "        \n",
              "  <svg xmlns=\"http://www.w3.org/2000/svg\" height=\"24px\"viewBox=\"0 0 24 24\"\n",
              "       width=\"24px\">\n",
              "    <path d=\"M0 0h24v24H0V0z\" fill=\"none\"/>\n",
              "    <path d=\"M18.56 5.44l.94 2.06.94-2.06 2.06-.94-2.06-.94-.94-2.06-.94 2.06-2.06.94zm-11 1L8.5 8.5l.94-2.06 2.06-.94-2.06-.94L8.5 2.5l-.94 2.06-2.06.94zm10 10l.94 2.06.94-2.06 2.06-.94-2.06-.94-.94-2.06-.94 2.06-2.06.94z\"/><path d=\"M17.41 7.96l-1.37-1.37c-.4-.4-.92-.59-1.43-.59-.52 0-1.04.2-1.43.59L10.3 9.45l-7.72 7.72c-.78.78-.78 2.05 0 2.83L4 21.41c.39.39.9.59 1.41.59.51 0 1.02-.2 1.41-.59l7.78-7.78 2.81-2.81c.8-.78.8-2.07 0-2.86zM5.41 20L4 18.59l7.72-7.72 1.47 1.35L5.41 20z\"/>\n",
              "  </svg>\n",
              "      </button>\n",
              "      \n",
              "  <style>\n",
              "    .colab-df-container {\n",
              "      display:flex;\n",
              "      flex-wrap:wrap;\n",
              "      gap: 12px;\n",
              "    }\n",
              "\n",
              "    .colab-df-convert {\n",
              "      background-color: #E8F0FE;\n",
              "      border: none;\n",
              "      border-radius: 50%;\n",
              "      cursor: pointer;\n",
              "      display: none;\n",
              "      fill: #1967D2;\n",
              "      height: 32px;\n",
              "      padding: 0 0 0 0;\n",
              "      width: 32px;\n",
              "    }\n",
              "\n",
              "    .colab-df-convert:hover {\n",
              "      background-color: #E2EBFA;\n",
              "      box-shadow: 0px 1px 2px rgba(60, 64, 67, 0.3), 0px 1px 3px 1px rgba(60, 64, 67, 0.15);\n",
              "      fill: #174EA6;\n",
              "    }\n",
              "\n",
              "    [theme=dark] .colab-df-convert {\n",
              "      background-color: #3B4455;\n",
              "      fill: #D2E3FC;\n",
              "    }\n",
              "\n",
              "    [theme=dark] .colab-df-convert:hover {\n",
              "      background-color: #434B5C;\n",
              "      box-shadow: 0px 1px 3px 1px rgba(0, 0, 0, 0.15);\n",
              "      filter: drop-shadow(0px 1px 2px rgba(0, 0, 0, 0.3));\n",
              "      fill: #FFFFFF;\n",
              "    }\n",
              "  </style>\n",
              "\n",
              "      <script>\n",
              "        const buttonEl =\n",
              "          document.querySelector('#df-b9795ae2-83e6-419a-9b6a-1bd7d19c3c44 button.colab-df-convert');\n",
              "        buttonEl.style.display =\n",
              "          google.colab.kernel.accessAllowed ? 'block' : 'none';\n",
              "\n",
              "        async function convertToInteractive(key) {\n",
              "          const element = document.querySelector('#df-b9795ae2-83e6-419a-9b6a-1bd7d19c3c44');\n",
              "          const dataTable =\n",
              "            await google.colab.kernel.invokeFunction('convertToInteractive',\n",
              "                                                     [key], {});\n",
              "          if (!dataTable) return;\n",
              "\n",
              "          const docLinkHtml = 'Like what you see? Visit the ' +\n",
              "            '<a target=\"_blank\" href=https://colab.research.google.com/notebooks/data_table.ipynb>data table notebook</a>'\n",
              "            + ' to learn more about interactive tables.';\n",
              "          element.innerHTML = '';\n",
              "          dataTable['output_type'] = 'display_data';\n",
              "          await google.colab.output.renderOutput(dataTable, element);\n",
              "          const docLink = document.createElement('div');\n",
              "          docLink.innerHTML = docLinkHtml;\n",
              "          element.appendChild(docLink);\n",
              "        }\n",
              "      </script>\n",
              "    </div>\n",
              "  </div>\n",
              "  "
            ]
          },
          "metadata": {}
        },
        {
          "output_type": "stream",
          "name": "stdout",
          "text": [
            "CPU times: user 1.86 s, sys: 1.16 ms, total: 1.86 s\n",
            "Wall time: 1.86 s\n"
          ]
        }
      ],
      "source": [
        "%%time\n",
        "\n",
        "# ========================================\n",
        "#               Evaluation\n",
        "# ========================================\n",
        "\n",
        "# Evaluate model on test data\n",
        "model.eval()\n",
        "\n",
        "y_true = list()\n",
        "y_pred = list()\n",
        "\n",
        "with torch.no_grad():\n",
        "    for batch in test_loader:\n",
        "        tweets, masks, labels = [t.to(device) for t in batch]\n",
        "        output = model(tweets, masks)\n",
        "        max_output = output.argmax(dim=1)\n",
        "        y_true.extend(labels.tolist())\n",
        "        y_pred.extend(max_output.tolist())\n",
        "\n",
        "print('Test accuracy: {:.2f}'.format(accuracy_score(y_true, y_pred)))\n",
        "print('\\nClassification report: \\n', classification_report(y_true, y_pred))\n",
        "print('\\nConfusion matrix: \\n')\n",
        "display(pd.DataFrame({\"Predicted: Unhateful\": confusion_matrix(y_true, y_pred)[:, 0], \n",
        "              \"Predicted: Hateful\": confusion_matrix(y_true, y_pred)[:, 1]},\n",
        "             index=['Actual: Unhateful', 'Actual: Hateful']))"
      ]
    },
    {
      "cell_type": "markdown",
      "id": "b686f4a4-e904-4783-ae21-8cac3474204a",
      "metadata": {
        "id": "b686f4a4-e904-4783-ae21-8cac3474204a"
      },
      "source": [
        "## Comparison to baselines"
      ]
    },
    {
      "cell_type": "markdown",
      "id": "f86d0ccc-b242-46b4-8a94-1847ad039b62",
      "metadata": {
        "id": "f86d0ccc-b242-46b4-8a94-1847ad039b62"
      },
      "source": [
        "### Basic baselines"
      ]
    },
    {
      "cell_type": "code",
      "execution_count": 25,
      "id": "5497a5f6-e58d-4570-9e01-1d8af287eb18",
      "metadata": {
        "id": "5497a5f6-e58d-4570-9e01-1d8af287eb18",
        "outputId": "fd4769c6-121c-43a3-83e2-d27d53c66912",
        "tags": [],
        "colab": {
          "base_uri": "https://localhost:8080/"
        }
      },
      "outputs": [
        {
          "output_type": "stream",
          "name": "stdout",
          "text": [
            "              precision    recall  f1-score   support\n",
            "\n",
            "           0       0.90      1.00      0.95       541\n",
            "           1       0.00      0.00      0.00        59\n",
            "\n",
            "    accuracy                           0.90       600\n",
            "   macro avg       0.45      0.50      0.47       600\n",
            "weighted avg       0.81      0.90      0.86       600\n",
            "\n"
          ]
        },
        {
          "output_type": "stream",
          "name": "stderr",
          "text": [
            "/usr/local/lib/python3.9/dist-packages/sklearn/metrics/_classification.py:1344: UndefinedMetricWarning: Precision and F-score are ill-defined and being set to 0.0 in labels with no predicted samples. Use `zero_division` parameter to control this behavior.\n",
            "  _warn_prf(average, modifier, msg_start, len(result))\n",
            "/usr/local/lib/python3.9/dist-packages/sklearn/metrics/_classification.py:1344: UndefinedMetricWarning: Precision and F-score are ill-defined and being set to 0.0 in labels with no predicted samples. Use `zero_division` parameter to control this behavior.\n",
            "  _warn_prf(average, modifier, msg_start, len(result))\n",
            "/usr/local/lib/python3.9/dist-packages/sklearn/metrics/_classification.py:1344: UndefinedMetricWarning: Precision and F-score are ill-defined and being set to 0.0 in labels with no predicted samples. Use `zero_division` parameter to control this behavior.\n",
            "  _warn_prf(average, modifier, msg_start, len(result))\n"
          ]
        }
      ],
      "source": [
        "# Predict all majority class\n",
        "y_pred = [0] * len(test)\n",
        "y_true = test['HOF']\n",
        "print(classification_report(y_true, y_pred))"
      ]
    },
    {
      "cell_type": "code",
      "execution_count": 26,
      "id": "3135979f-ed60-427a-b3a4-079959dd6693",
      "metadata": {
        "id": "3135979f-ed60-427a-b3a4-079959dd6693",
        "outputId": "dec61570-23b1-4391-e8df-5a1006b3a8f5",
        "colab": {
          "base_uri": "https://localhost:8080/"
        }
      },
      "outputs": [
        {
          "output_type": "stream",
          "name": "stdout",
          "text": [
            "              precision    recall  f1-score   support\n",
            "\n",
            "           0       0.90      0.90      0.90       541\n",
            "           1       0.08      0.08      0.08        59\n",
            "\n",
            "    accuracy                           0.82       600\n",
            "   macro avg       0.49      0.49      0.49       600\n",
            "weighted avg       0.82      0.82      0.82       600\n",
            "\n"
          ]
        }
      ],
      "source": [
        "# Probabilistic guess\n",
        "maj_prob, min_prob = test['HOF'].value_counts(normalize=True).values\n",
        "y_pred = [0]*int(maj_prob*len(test)) + [1]*int(min_prob*len(test))\n",
        "y_pred = random.sample(y_pred, len(y_pred))\n",
        "print(classification_report(y_true, y_pred))"
      ]
    },
    {
      "cell_type": "markdown",
      "id": "0f651303-13b8-4e86-8d9f-3d3fe7076074",
      "metadata": {
        "id": "0f651303-13b8-4e86-8d9f-3d3fe7076074"
      },
      "source": [
        "### Naïve Bayes BoW classifier"
      ]
    },
    {
      "cell_type": "code",
      "source": [
        "!pip install naive_bayes"
      ],
      "metadata": {
        "colab": {
          "base_uri": "https://localhost:8080/"
        },
        "id": "Rnz6CtCcix4T",
        "outputId": "29597e39-7dec-43ab-95d2-3fd34fd35d66"
      },
      "id": "Rnz6CtCcix4T",
      "execution_count": 28,
      "outputs": [
        {
          "output_type": "stream",
          "name": "stdout",
          "text": [
            "Looking in indexes: https://pypi.org/simple, https://us-python.pkg.dev/colab-wheels/public/simple/\n",
            "Collecting naive_bayes\n",
            "  Downloading naive-bayes-0.1.1.tar.gz (1.8 kB)\n",
            "  Preparing metadata (setup.py) ... \u001b[?25l\u001b[?25hdone\n",
            "Requirement already satisfied: scikit-learn>=0.15.2 in /usr/local/lib/python3.9/dist-packages (from naive_bayes) (1.2.2)\n",
            "Requirement already satisfied: numpy>=1.9.0 in /usr/local/lib/python3.9/dist-packages (from naive_bayes) (1.22.4)\n",
            "Requirement already satisfied: threadpoolctl>=2.0.0 in /usr/local/lib/python3.9/dist-packages (from scikit-learn>=0.15.2->naive_bayes) (3.1.0)\n",
            "Requirement already satisfied: joblib>=1.1.1 in /usr/local/lib/python3.9/dist-packages (from scikit-learn>=0.15.2->naive_bayes) (1.2.0)\n",
            "Requirement already satisfied: scipy>=1.3.2 in /usr/local/lib/python3.9/dist-packages (from scikit-learn>=0.15.2->naive_bayes) (1.10.1)\n",
            "Building wheels for collected packages: naive_bayes\n",
            "  Building wheel for naive_bayes (setup.py) ... \u001b[?25l\u001b[?25hdone\n",
            "  Created wheel for naive_bayes: filename=naive_bayes-0.1.1-py3-none-any.whl size=2177 sha256=28aac9a6af0ba8c3ce8024cf157cf6cb05109e4dc64766eee107d8590209a3ad\n",
            "  Stored in directory: /root/.cache/pip/wheels/29/fc/1f/44ea7f6ccb226e209a1fa1c4cfd6cddefa75e1691504542ae5\n",
            "Successfully built naive_bayes\n",
            "Installing collected packages: naive_bayes\n",
            "Successfully installed naive_bayes-0.1.1\n"
          ]
        }
      ]
    },
    {
      "cell_type": "code",
      "execution_count": 31,
      "id": "4b35defb-dc43-4519-bdb2-19e18076b985",
      "metadata": {
        "id": "4b35defb-dc43-4519-bdb2-19e18076b985"
      },
      "outputs": [],
      "source": [
        "from sklearn.naive_bayes import *"
      ]
    },
    {
      "cell_type": "code",
      "execution_count": null,
      "id": "6240470a-1d5f-413e-a3f4-3da53ab51f5e",
      "metadata": {
        "id": "6240470a-1d5f-413e-a3f4-3da53ab51f5e",
        "outputId": "54786640-be51-4866-9f73-7f402ac2b18e"
      },
      "outputs": [
        {
          "name": "stdout",
          "output_type": "stream",
          "text": [
            "              precision    recall  f1-score   support\n",
            "\n",
            "           0       0.91      0.69      0.78       541\n",
            "           1       0.11      0.34      0.16        59\n",
            "\n",
            "    accuracy                           0.65       600\n",
            "   macro avg       0.51      0.51      0.47       600\n",
            "weighted avg       0.83      0.65      0.72       600\n",
            "\n"
          ]
        }
      ],
      "source": [
        "# Generate vocabs\n",
        "n_total, vocab, distinct_mentions = get_vocabs(train)\n",
        "\n",
        "# Generate MI list\n",
        "mi_list = sorted([(mi(w, distinct_mentions, n_total), w) for w in set(vocab[1]).union(set(vocab[0]))], reverse=True)\n",
        "\n",
        "# Estimate P(c_i), the probability of class c_i\n",
        "categories = [0, 1]\n",
        "prob_class = dict()\n",
        "total_tweets = len(train)\n",
        "for c_i in categories:\n",
        "    prob_class[c_i] = len(train[train['HOF']==c_i]) / total_tweets\n",
        "\n",
        "# Get predictions on test set using arbitrary values for n_features and smoothing_alpha\n",
        "# This is just to test that it works\n",
        "probs = naive_bayes_additive_smoothing_feature_selection(vocab, categories, 0.25, 1000, mi_list)\n",
        "labels, predictions = get_nb_predictions(categories, test, probs, prob_class)\n",
        "print(classification_report(labels, predictions))"
      ]
    },
    {
      "cell_type": "markdown",
      "id": "8992b65d-6c54-4e79-bc16-b2503cfe38ab",
      "metadata": {
        "id": "8992b65d-6c54-4e79-bc16-b2503cfe38ab",
        "tags": []
      },
      "source": [
        "## Future improvements\n",
        "\n",
        "1. Better ways of dealing with class imbalances - e.g. upsampling, to avoid wasting data. \n",
        "\n",
        "2. Modify loss function to penalize False Positives and False Negatives with different magnitudes. E.g. if simple Cross Entropy looks like this:\n",
        "\n",
        "$$\\frac{-1}{N} \\sum_{i=1}^Ny_i \\cdot \\log(\\hat{y_i}) + (1 - y_i) \\cdot \\log(1 - \\hat{y_i})$$\n",
        "\n",
        "Where:\n",
        "* $y_i \\cdot \\log(\\hat{y_i})$ penalises False Negatives\n",
        "* $(1 - y_i) \\cdot \\log(1 - \\hat{y_i})$ penalises False Positives\n",
        "\n",
        "We could introduce some new scalar parameters to change the size/influence of these.\n",
        "\n",
        "3. Incorporate contextual information - original authors Grimminger and Klinger (2021) found that knowing whether or not a user was a supporter of a particular candidate massively boosted the F1 score. \n",
        "\n",
        "4. Interpretability - e.g. using LIME.\n",
        "\n",
        "5. Could try different levels of cleaning. BERT obviously needs contextual information, so I would only do limited cleaning, but could explore whether, for example, including some form of tagged users' names helps the model improve. \n",
        "\n",
        "6. Hyperparameter tuning\n",
        "\n",
        "7. I might consider making use of additional 🤗 Transformers tools like the `Trainer` object for more streamlined/customisable pipeline:\n",
        "\n",
        "```python \n",
        "trainer = Trainer(\n",
        "    model=model,\n",
        "    args=training_args,\n",
        "    train_dataset=small_train_dataset,\n",
        "    eval_dataset=small_eval_dataset,\n",
        "    compute_metrics=compute_metrics,\n",
        ")\n",
        "```"
      ]
    }
  ],
  "metadata": {
    "accelerator": "GPU",
    "colab": {
      "provenance": [],
      "toc_visible": true,
      "include_colab_link": true
    },
    "kernelspec": {
      "display_name": "Python 3",
      "name": "python3"
    },
    "language_info": {
      "name": "python"
    },
    "widgets": {
      "application/vnd.jupyter.widget-state+json": {
        "40039568cb124236ba764b8c5a51e2d2": {
          "model_module": "@jupyter-widgets/controls",
          "model_name": "HBoxModel",
          "model_module_version": "1.5.0",
          "state": {
            "_dom_classes": [],
            "_model_module": "@jupyter-widgets/controls",
            "_model_module_version": "1.5.0",
            "_model_name": "HBoxModel",
            "_view_count": null,
            "_view_module": "@jupyter-widgets/controls",
            "_view_module_version": "1.5.0",
            "_view_name": "HBoxView",
            "box_style": "",
            "children": [
              "IPY_MODEL_534da12f87794194b749f0c92bcc5008",
              "IPY_MODEL_e3acdc6b6eb84faf9525f0353775d000",
              "IPY_MODEL_ee2ad287987744cb9eeebe11d7731ef8"
            ],
            "layout": "IPY_MODEL_44c81ebccccc4530bb11a93775c51bcb"
          }
        },
        "534da12f87794194b749f0c92bcc5008": {
          "model_module": "@jupyter-widgets/controls",
          "model_name": "HTMLModel",
          "model_module_version": "1.5.0",
          "state": {
            "_dom_classes": [],
            "_model_module": "@jupyter-widgets/controls",
            "_model_module_version": "1.5.0",
            "_model_name": "HTMLModel",
            "_view_count": null,
            "_view_module": "@jupyter-widgets/controls",
            "_view_module_version": "1.5.0",
            "_view_name": "HTMLView",
            "description": "",
            "description_tooltip": null,
            "layout": "IPY_MODEL_4b368b067df54397a61d2ddf67e939f9",
            "placeholder": "​",
            "style": "IPY_MODEL_1abb440779ab4dce849de4a087cbe300",
            "value": "Downloading (…)solve/main/vocab.txt: 100%"
          }
        },
        "e3acdc6b6eb84faf9525f0353775d000": {
          "model_module": "@jupyter-widgets/controls",
          "model_name": "FloatProgressModel",
          "model_module_version": "1.5.0",
          "state": {
            "_dom_classes": [],
            "_model_module": "@jupyter-widgets/controls",
            "_model_module_version": "1.5.0",
            "_model_name": "FloatProgressModel",
            "_view_count": null,
            "_view_module": "@jupyter-widgets/controls",
            "_view_module_version": "1.5.0",
            "_view_name": "ProgressView",
            "bar_style": "success",
            "description": "",
            "description_tooltip": null,
            "layout": "IPY_MODEL_5f63e1cda3054c43844960ea681a26da",
            "max": 231508,
            "min": 0,
            "orientation": "horizontal",
            "style": "IPY_MODEL_23fd9c24c9ac46f583610b320397db81",
            "value": 231508
          }
        },
        "ee2ad287987744cb9eeebe11d7731ef8": {
          "model_module": "@jupyter-widgets/controls",
          "model_name": "HTMLModel",
          "model_module_version": "1.5.0",
          "state": {
            "_dom_classes": [],
            "_model_module": "@jupyter-widgets/controls",
            "_model_module_version": "1.5.0",
            "_model_name": "HTMLModel",
            "_view_count": null,
            "_view_module": "@jupyter-widgets/controls",
            "_view_module_version": "1.5.0",
            "_view_name": "HTMLView",
            "description": "",
            "description_tooltip": null,
            "layout": "IPY_MODEL_bd52ab54fcec4b75924a983807354609",
            "placeholder": "​",
            "style": "IPY_MODEL_96b427fdf8144c859d69cf4298d6c3c9",
            "value": " 232k/232k [00:00&lt;00:00, 3.22MB/s]"
          }
        },
        "44c81ebccccc4530bb11a93775c51bcb": {
          "model_module": "@jupyter-widgets/base",
          "model_name": "LayoutModel",
          "model_module_version": "1.2.0",
          "state": {
            "_model_module": "@jupyter-widgets/base",
            "_model_module_version": "1.2.0",
            "_model_name": "LayoutModel",
            "_view_count": null,
            "_view_module": "@jupyter-widgets/base",
            "_view_module_version": "1.2.0",
            "_view_name": "LayoutView",
            "align_content": null,
            "align_items": null,
            "align_self": null,
            "border": null,
            "bottom": null,
            "display": null,
            "flex": null,
            "flex_flow": null,
            "grid_area": null,
            "grid_auto_columns": null,
            "grid_auto_flow": null,
            "grid_auto_rows": null,
            "grid_column": null,
            "grid_gap": null,
            "grid_row": null,
            "grid_template_areas": null,
            "grid_template_columns": null,
            "grid_template_rows": null,
            "height": null,
            "justify_content": null,
            "justify_items": null,
            "left": null,
            "margin": null,
            "max_height": null,
            "max_width": null,
            "min_height": null,
            "min_width": null,
            "object_fit": null,
            "object_position": null,
            "order": null,
            "overflow": null,
            "overflow_x": null,
            "overflow_y": null,
            "padding": null,
            "right": null,
            "top": null,
            "visibility": null,
            "width": null
          }
        },
        "4b368b067df54397a61d2ddf67e939f9": {
          "model_module": "@jupyter-widgets/base",
          "model_name": "LayoutModel",
          "model_module_version": "1.2.0",
          "state": {
            "_model_module": "@jupyter-widgets/base",
            "_model_module_version": "1.2.0",
            "_model_name": "LayoutModel",
            "_view_count": null,
            "_view_module": "@jupyter-widgets/base",
            "_view_module_version": "1.2.0",
            "_view_name": "LayoutView",
            "align_content": null,
            "align_items": null,
            "align_self": null,
            "border": null,
            "bottom": null,
            "display": null,
            "flex": null,
            "flex_flow": null,
            "grid_area": null,
            "grid_auto_columns": null,
            "grid_auto_flow": null,
            "grid_auto_rows": null,
            "grid_column": null,
            "grid_gap": null,
            "grid_row": null,
            "grid_template_areas": null,
            "grid_template_columns": null,
            "grid_template_rows": null,
            "height": null,
            "justify_content": null,
            "justify_items": null,
            "left": null,
            "margin": null,
            "max_height": null,
            "max_width": null,
            "min_height": null,
            "min_width": null,
            "object_fit": null,
            "object_position": null,
            "order": null,
            "overflow": null,
            "overflow_x": null,
            "overflow_y": null,
            "padding": null,
            "right": null,
            "top": null,
            "visibility": null,
            "width": null
          }
        },
        "1abb440779ab4dce849de4a087cbe300": {
          "model_module": "@jupyter-widgets/controls",
          "model_name": "DescriptionStyleModel",
          "model_module_version": "1.5.0",
          "state": {
            "_model_module": "@jupyter-widgets/controls",
            "_model_module_version": "1.5.0",
            "_model_name": "DescriptionStyleModel",
            "_view_count": null,
            "_view_module": "@jupyter-widgets/base",
            "_view_module_version": "1.2.0",
            "_view_name": "StyleView",
            "description_width": ""
          }
        },
        "5f63e1cda3054c43844960ea681a26da": {
          "model_module": "@jupyter-widgets/base",
          "model_name": "LayoutModel",
          "model_module_version": "1.2.0",
          "state": {
            "_model_module": "@jupyter-widgets/base",
            "_model_module_version": "1.2.0",
            "_model_name": "LayoutModel",
            "_view_count": null,
            "_view_module": "@jupyter-widgets/base",
            "_view_module_version": "1.2.0",
            "_view_name": "LayoutView",
            "align_content": null,
            "align_items": null,
            "align_self": null,
            "border": null,
            "bottom": null,
            "display": null,
            "flex": null,
            "flex_flow": null,
            "grid_area": null,
            "grid_auto_columns": null,
            "grid_auto_flow": null,
            "grid_auto_rows": null,
            "grid_column": null,
            "grid_gap": null,
            "grid_row": null,
            "grid_template_areas": null,
            "grid_template_columns": null,
            "grid_template_rows": null,
            "height": null,
            "justify_content": null,
            "justify_items": null,
            "left": null,
            "margin": null,
            "max_height": null,
            "max_width": null,
            "min_height": null,
            "min_width": null,
            "object_fit": null,
            "object_position": null,
            "order": null,
            "overflow": null,
            "overflow_x": null,
            "overflow_y": null,
            "padding": null,
            "right": null,
            "top": null,
            "visibility": null,
            "width": null
          }
        },
        "23fd9c24c9ac46f583610b320397db81": {
          "model_module": "@jupyter-widgets/controls",
          "model_name": "ProgressStyleModel",
          "model_module_version": "1.5.0",
          "state": {
            "_model_module": "@jupyter-widgets/controls",
            "_model_module_version": "1.5.0",
            "_model_name": "ProgressStyleModel",
            "_view_count": null,
            "_view_module": "@jupyter-widgets/base",
            "_view_module_version": "1.2.0",
            "_view_name": "StyleView",
            "bar_color": null,
            "description_width": ""
          }
        },
        "bd52ab54fcec4b75924a983807354609": {
          "model_module": "@jupyter-widgets/base",
          "model_name": "LayoutModel",
          "model_module_version": "1.2.0",
          "state": {
            "_model_module": "@jupyter-widgets/base",
            "_model_module_version": "1.2.0",
            "_model_name": "LayoutModel",
            "_view_count": null,
            "_view_module": "@jupyter-widgets/base",
            "_view_module_version": "1.2.0",
            "_view_name": "LayoutView",
            "align_content": null,
            "align_items": null,
            "align_self": null,
            "border": null,
            "bottom": null,
            "display": null,
            "flex": null,
            "flex_flow": null,
            "grid_area": null,
            "grid_auto_columns": null,
            "grid_auto_flow": null,
            "grid_auto_rows": null,
            "grid_column": null,
            "grid_gap": null,
            "grid_row": null,
            "grid_template_areas": null,
            "grid_template_columns": null,
            "grid_template_rows": null,
            "height": null,
            "justify_content": null,
            "justify_items": null,
            "left": null,
            "margin": null,
            "max_height": null,
            "max_width": null,
            "min_height": null,
            "min_width": null,
            "object_fit": null,
            "object_position": null,
            "order": null,
            "overflow": null,
            "overflow_x": null,
            "overflow_y": null,
            "padding": null,
            "right": null,
            "top": null,
            "visibility": null,
            "width": null
          }
        },
        "96b427fdf8144c859d69cf4298d6c3c9": {
          "model_module": "@jupyter-widgets/controls",
          "model_name": "DescriptionStyleModel",
          "model_module_version": "1.5.0",
          "state": {
            "_model_module": "@jupyter-widgets/controls",
            "_model_module_version": "1.5.0",
            "_model_name": "DescriptionStyleModel",
            "_view_count": null,
            "_view_module": "@jupyter-widgets/base",
            "_view_module_version": "1.2.0",
            "_view_name": "StyleView",
            "description_width": ""
          }
        },
        "00dc260e65e6463d8986c0e143c37213": {
          "model_module": "@jupyter-widgets/controls",
          "model_name": "HBoxModel",
          "model_module_version": "1.5.0",
          "state": {
            "_dom_classes": [],
            "_model_module": "@jupyter-widgets/controls",
            "_model_module_version": "1.5.0",
            "_model_name": "HBoxModel",
            "_view_count": null,
            "_view_module": "@jupyter-widgets/controls",
            "_view_module_version": "1.5.0",
            "_view_name": "HBoxView",
            "box_style": "",
            "children": [
              "IPY_MODEL_e641296b04774a77b7b2f959850ce9a7",
              "IPY_MODEL_04a5610d93294db68a3a7d3f31560bc2",
              "IPY_MODEL_11bff7dd9a0e4fa3a0160573cd31cff9"
            ],
            "layout": "IPY_MODEL_eefb5fbcb03341879927dd446d299800"
          }
        },
        "e641296b04774a77b7b2f959850ce9a7": {
          "model_module": "@jupyter-widgets/controls",
          "model_name": "HTMLModel",
          "model_module_version": "1.5.0",
          "state": {
            "_dom_classes": [],
            "_model_module": "@jupyter-widgets/controls",
            "_model_module_version": "1.5.0",
            "_model_name": "HTMLModel",
            "_view_count": null,
            "_view_module": "@jupyter-widgets/controls",
            "_view_module_version": "1.5.0",
            "_view_name": "HTMLView",
            "description": "",
            "description_tooltip": null,
            "layout": "IPY_MODEL_d67b6195d031443f86452590ec8146cb",
            "placeholder": "​",
            "style": "IPY_MODEL_36fc614a9519493bafa377261ddfbc3a",
            "value": "Downloading (…)okenizer_config.json: 100%"
          }
        },
        "04a5610d93294db68a3a7d3f31560bc2": {
          "model_module": "@jupyter-widgets/controls",
          "model_name": "FloatProgressModel",
          "model_module_version": "1.5.0",
          "state": {
            "_dom_classes": [],
            "_model_module": "@jupyter-widgets/controls",
            "_model_module_version": "1.5.0",
            "_model_name": "FloatProgressModel",
            "_view_count": null,
            "_view_module": "@jupyter-widgets/controls",
            "_view_module_version": "1.5.0",
            "_view_name": "ProgressView",
            "bar_style": "success",
            "description": "",
            "description_tooltip": null,
            "layout": "IPY_MODEL_51f822a3e5ea45e7b72588268cbcdfc7",
            "max": 28,
            "min": 0,
            "orientation": "horizontal",
            "style": "IPY_MODEL_258914564cd94cb29be3a1a2e078418a",
            "value": 28
          }
        },
        "11bff7dd9a0e4fa3a0160573cd31cff9": {
          "model_module": "@jupyter-widgets/controls",
          "model_name": "HTMLModel",
          "model_module_version": "1.5.0",
          "state": {
            "_dom_classes": [],
            "_model_module": "@jupyter-widgets/controls",
            "_model_module_version": "1.5.0",
            "_model_name": "HTMLModel",
            "_view_count": null,
            "_view_module": "@jupyter-widgets/controls",
            "_view_module_version": "1.5.0",
            "_view_name": "HTMLView",
            "description": "",
            "description_tooltip": null,
            "layout": "IPY_MODEL_a64299b133c4435792fae979d9430590",
            "placeholder": "​",
            "style": "IPY_MODEL_c59852f740e04d44b11645608675fb85",
            "value": " 28.0/28.0 [00:00&lt;00:00, 491B/s]"
          }
        },
        "eefb5fbcb03341879927dd446d299800": {
          "model_module": "@jupyter-widgets/base",
          "model_name": "LayoutModel",
          "model_module_version": "1.2.0",
          "state": {
            "_model_module": "@jupyter-widgets/base",
            "_model_module_version": "1.2.0",
            "_model_name": "LayoutModel",
            "_view_count": null,
            "_view_module": "@jupyter-widgets/base",
            "_view_module_version": "1.2.0",
            "_view_name": "LayoutView",
            "align_content": null,
            "align_items": null,
            "align_self": null,
            "border": null,
            "bottom": null,
            "display": null,
            "flex": null,
            "flex_flow": null,
            "grid_area": null,
            "grid_auto_columns": null,
            "grid_auto_flow": null,
            "grid_auto_rows": null,
            "grid_column": null,
            "grid_gap": null,
            "grid_row": null,
            "grid_template_areas": null,
            "grid_template_columns": null,
            "grid_template_rows": null,
            "height": null,
            "justify_content": null,
            "justify_items": null,
            "left": null,
            "margin": null,
            "max_height": null,
            "max_width": null,
            "min_height": null,
            "min_width": null,
            "object_fit": null,
            "object_position": null,
            "order": null,
            "overflow": null,
            "overflow_x": null,
            "overflow_y": null,
            "padding": null,
            "right": null,
            "top": null,
            "visibility": null,
            "width": null
          }
        },
        "d67b6195d031443f86452590ec8146cb": {
          "model_module": "@jupyter-widgets/base",
          "model_name": "LayoutModel",
          "model_module_version": "1.2.0",
          "state": {
            "_model_module": "@jupyter-widgets/base",
            "_model_module_version": "1.2.0",
            "_model_name": "LayoutModel",
            "_view_count": null,
            "_view_module": "@jupyter-widgets/base",
            "_view_module_version": "1.2.0",
            "_view_name": "LayoutView",
            "align_content": null,
            "align_items": null,
            "align_self": null,
            "border": null,
            "bottom": null,
            "display": null,
            "flex": null,
            "flex_flow": null,
            "grid_area": null,
            "grid_auto_columns": null,
            "grid_auto_flow": null,
            "grid_auto_rows": null,
            "grid_column": null,
            "grid_gap": null,
            "grid_row": null,
            "grid_template_areas": null,
            "grid_template_columns": null,
            "grid_template_rows": null,
            "height": null,
            "justify_content": null,
            "justify_items": null,
            "left": null,
            "margin": null,
            "max_height": null,
            "max_width": null,
            "min_height": null,
            "min_width": null,
            "object_fit": null,
            "object_position": null,
            "order": null,
            "overflow": null,
            "overflow_x": null,
            "overflow_y": null,
            "padding": null,
            "right": null,
            "top": null,
            "visibility": null,
            "width": null
          }
        },
        "36fc614a9519493bafa377261ddfbc3a": {
          "model_module": "@jupyter-widgets/controls",
          "model_name": "DescriptionStyleModel",
          "model_module_version": "1.5.0",
          "state": {
            "_model_module": "@jupyter-widgets/controls",
            "_model_module_version": "1.5.0",
            "_model_name": "DescriptionStyleModel",
            "_view_count": null,
            "_view_module": "@jupyter-widgets/base",
            "_view_module_version": "1.2.0",
            "_view_name": "StyleView",
            "description_width": ""
          }
        },
        "51f822a3e5ea45e7b72588268cbcdfc7": {
          "model_module": "@jupyter-widgets/base",
          "model_name": "LayoutModel",
          "model_module_version": "1.2.0",
          "state": {
            "_model_module": "@jupyter-widgets/base",
            "_model_module_version": "1.2.0",
            "_model_name": "LayoutModel",
            "_view_count": null,
            "_view_module": "@jupyter-widgets/base",
            "_view_module_version": "1.2.0",
            "_view_name": "LayoutView",
            "align_content": null,
            "align_items": null,
            "align_self": null,
            "border": null,
            "bottom": null,
            "display": null,
            "flex": null,
            "flex_flow": null,
            "grid_area": null,
            "grid_auto_columns": null,
            "grid_auto_flow": null,
            "grid_auto_rows": null,
            "grid_column": null,
            "grid_gap": null,
            "grid_row": null,
            "grid_template_areas": null,
            "grid_template_columns": null,
            "grid_template_rows": null,
            "height": null,
            "justify_content": null,
            "justify_items": null,
            "left": null,
            "margin": null,
            "max_height": null,
            "max_width": null,
            "min_height": null,
            "min_width": null,
            "object_fit": null,
            "object_position": null,
            "order": null,
            "overflow": null,
            "overflow_x": null,
            "overflow_y": null,
            "padding": null,
            "right": null,
            "top": null,
            "visibility": null,
            "width": null
          }
        },
        "258914564cd94cb29be3a1a2e078418a": {
          "model_module": "@jupyter-widgets/controls",
          "model_name": "ProgressStyleModel",
          "model_module_version": "1.5.0",
          "state": {
            "_model_module": "@jupyter-widgets/controls",
            "_model_module_version": "1.5.0",
            "_model_name": "ProgressStyleModel",
            "_view_count": null,
            "_view_module": "@jupyter-widgets/base",
            "_view_module_version": "1.2.0",
            "_view_name": "StyleView",
            "bar_color": null,
            "description_width": ""
          }
        },
        "a64299b133c4435792fae979d9430590": {
          "model_module": "@jupyter-widgets/base",
          "model_name": "LayoutModel",
          "model_module_version": "1.2.0",
          "state": {
            "_model_module": "@jupyter-widgets/base",
            "_model_module_version": "1.2.0",
            "_model_name": "LayoutModel",
            "_view_count": null,
            "_view_module": "@jupyter-widgets/base",
            "_view_module_version": "1.2.0",
            "_view_name": "LayoutView",
            "align_content": null,
            "align_items": null,
            "align_self": null,
            "border": null,
            "bottom": null,
            "display": null,
            "flex": null,
            "flex_flow": null,
            "grid_area": null,
            "grid_auto_columns": null,
            "grid_auto_flow": null,
            "grid_auto_rows": null,
            "grid_column": null,
            "grid_gap": null,
            "grid_row": null,
            "grid_template_areas": null,
            "grid_template_columns": null,
            "grid_template_rows": null,
            "height": null,
            "justify_content": null,
            "justify_items": null,
            "left": null,
            "margin": null,
            "max_height": null,
            "max_width": null,
            "min_height": null,
            "min_width": null,
            "object_fit": null,
            "object_position": null,
            "order": null,
            "overflow": null,
            "overflow_x": null,
            "overflow_y": null,
            "padding": null,
            "right": null,
            "top": null,
            "visibility": null,
            "width": null
          }
        },
        "c59852f740e04d44b11645608675fb85": {
          "model_module": "@jupyter-widgets/controls",
          "model_name": "DescriptionStyleModel",
          "model_module_version": "1.5.0",
          "state": {
            "_model_module": "@jupyter-widgets/controls",
            "_model_module_version": "1.5.0",
            "_model_name": "DescriptionStyleModel",
            "_view_count": null,
            "_view_module": "@jupyter-widgets/base",
            "_view_module_version": "1.2.0",
            "_view_name": "StyleView",
            "description_width": ""
          }
        },
        "da530c60b2104709a81681bd1c6f7628": {
          "model_module": "@jupyter-widgets/controls",
          "model_name": "HBoxModel",
          "model_module_version": "1.5.0",
          "state": {
            "_dom_classes": [],
            "_model_module": "@jupyter-widgets/controls",
            "_model_module_version": "1.5.0",
            "_model_name": "HBoxModel",
            "_view_count": null,
            "_view_module": "@jupyter-widgets/controls",
            "_view_module_version": "1.5.0",
            "_view_name": "HBoxView",
            "box_style": "",
            "children": [
              "IPY_MODEL_43038d941c20454c8898eebd46d152fe",
              "IPY_MODEL_8d9353f603cb4252a8ed2ac16c03b870",
              "IPY_MODEL_70c6470b79644648bae5add0ce5eaf2b"
            ],
            "layout": "IPY_MODEL_2ccee4e302414567bf63c58ae28d2238"
          }
        },
        "43038d941c20454c8898eebd46d152fe": {
          "model_module": "@jupyter-widgets/controls",
          "model_name": "HTMLModel",
          "model_module_version": "1.5.0",
          "state": {
            "_dom_classes": [],
            "_model_module": "@jupyter-widgets/controls",
            "_model_module_version": "1.5.0",
            "_model_name": "HTMLModel",
            "_view_count": null,
            "_view_module": "@jupyter-widgets/controls",
            "_view_module_version": "1.5.0",
            "_view_name": "HTMLView",
            "description": "",
            "description_tooltip": null,
            "layout": "IPY_MODEL_9bcbbfe80c364ecdbcc02aa99caa52ec",
            "placeholder": "​",
            "style": "IPY_MODEL_dac54a001d1c43afb3a835ba39e347a8",
            "value": "Downloading (…)lve/main/config.json: 100%"
          }
        },
        "8d9353f603cb4252a8ed2ac16c03b870": {
          "model_module": "@jupyter-widgets/controls",
          "model_name": "FloatProgressModel",
          "model_module_version": "1.5.0",
          "state": {
            "_dom_classes": [],
            "_model_module": "@jupyter-widgets/controls",
            "_model_module_version": "1.5.0",
            "_model_name": "FloatProgressModel",
            "_view_count": null,
            "_view_module": "@jupyter-widgets/controls",
            "_view_module_version": "1.5.0",
            "_view_name": "ProgressView",
            "bar_style": "success",
            "description": "",
            "description_tooltip": null,
            "layout": "IPY_MODEL_cbdf55c34c3041909ca8c9037c46fa91",
            "max": 570,
            "min": 0,
            "orientation": "horizontal",
            "style": "IPY_MODEL_2b3653bc844c4300a7b16ebd06b3d5c3",
            "value": 570
          }
        },
        "70c6470b79644648bae5add0ce5eaf2b": {
          "model_module": "@jupyter-widgets/controls",
          "model_name": "HTMLModel",
          "model_module_version": "1.5.0",
          "state": {
            "_dom_classes": [],
            "_model_module": "@jupyter-widgets/controls",
            "_model_module_version": "1.5.0",
            "_model_name": "HTMLModel",
            "_view_count": null,
            "_view_module": "@jupyter-widgets/controls",
            "_view_module_version": "1.5.0",
            "_view_name": "HTMLView",
            "description": "",
            "description_tooltip": null,
            "layout": "IPY_MODEL_ec6774f5df8a45c9990f3f2f1892aa60",
            "placeholder": "​",
            "style": "IPY_MODEL_4ec7ccfbae9d45ff85b290196a5e0389",
            "value": " 570/570 [00:00&lt;00:00, 8.00kB/s]"
          }
        },
        "2ccee4e302414567bf63c58ae28d2238": {
          "model_module": "@jupyter-widgets/base",
          "model_name": "LayoutModel",
          "model_module_version": "1.2.0",
          "state": {
            "_model_module": "@jupyter-widgets/base",
            "_model_module_version": "1.2.0",
            "_model_name": "LayoutModel",
            "_view_count": null,
            "_view_module": "@jupyter-widgets/base",
            "_view_module_version": "1.2.0",
            "_view_name": "LayoutView",
            "align_content": null,
            "align_items": null,
            "align_self": null,
            "border": null,
            "bottom": null,
            "display": null,
            "flex": null,
            "flex_flow": null,
            "grid_area": null,
            "grid_auto_columns": null,
            "grid_auto_flow": null,
            "grid_auto_rows": null,
            "grid_column": null,
            "grid_gap": null,
            "grid_row": null,
            "grid_template_areas": null,
            "grid_template_columns": null,
            "grid_template_rows": null,
            "height": null,
            "justify_content": null,
            "justify_items": null,
            "left": null,
            "margin": null,
            "max_height": null,
            "max_width": null,
            "min_height": null,
            "min_width": null,
            "object_fit": null,
            "object_position": null,
            "order": null,
            "overflow": null,
            "overflow_x": null,
            "overflow_y": null,
            "padding": null,
            "right": null,
            "top": null,
            "visibility": null,
            "width": null
          }
        },
        "9bcbbfe80c364ecdbcc02aa99caa52ec": {
          "model_module": "@jupyter-widgets/base",
          "model_name": "LayoutModel",
          "model_module_version": "1.2.0",
          "state": {
            "_model_module": "@jupyter-widgets/base",
            "_model_module_version": "1.2.0",
            "_model_name": "LayoutModel",
            "_view_count": null,
            "_view_module": "@jupyter-widgets/base",
            "_view_module_version": "1.2.0",
            "_view_name": "LayoutView",
            "align_content": null,
            "align_items": null,
            "align_self": null,
            "border": null,
            "bottom": null,
            "display": null,
            "flex": null,
            "flex_flow": null,
            "grid_area": null,
            "grid_auto_columns": null,
            "grid_auto_flow": null,
            "grid_auto_rows": null,
            "grid_column": null,
            "grid_gap": null,
            "grid_row": null,
            "grid_template_areas": null,
            "grid_template_columns": null,
            "grid_template_rows": null,
            "height": null,
            "justify_content": null,
            "justify_items": null,
            "left": null,
            "margin": null,
            "max_height": null,
            "max_width": null,
            "min_height": null,
            "min_width": null,
            "object_fit": null,
            "object_position": null,
            "order": null,
            "overflow": null,
            "overflow_x": null,
            "overflow_y": null,
            "padding": null,
            "right": null,
            "top": null,
            "visibility": null,
            "width": null
          }
        },
        "dac54a001d1c43afb3a835ba39e347a8": {
          "model_module": "@jupyter-widgets/controls",
          "model_name": "DescriptionStyleModel",
          "model_module_version": "1.5.0",
          "state": {
            "_model_module": "@jupyter-widgets/controls",
            "_model_module_version": "1.5.0",
            "_model_name": "DescriptionStyleModel",
            "_view_count": null,
            "_view_module": "@jupyter-widgets/base",
            "_view_module_version": "1.2.0",
            "_view_name": "StyleView",
            "description_width": ""
          }
        },
        "cbdf55c34c3041909ca8c9037c46fa91": {
          "model_module": "@jupyter-widgets/base",
          "model_name": "LayoutModel",
          "model_module_version": "1.2.0",
          "state": {
            "_model_module": "@jupyter-widgets/base",
            "_model_module_version": "1.2.0",
            "_model_name": "LayoutModel",
            "_view_count": null,
            "_view_module": "@jupyter-widgets/base",
            "_view_module_version": "1.2.0",
            "_view_name": "LayoutView",
            "align_content": null,
            "align_items": null,
            "align_self": null,
            "border": null,
            "bottom": null,
            "display": null,
            "flex": null,
            "flex_flow": null,
            "grid_area": null,
            "grid_auto_columns": null,
            "grid_auto_flow": null,
            "grid_auto_rows": null,
            "grid_column": null,
            "grid_gap": null,
            "grid_row": null,
            "grid_template_areas": null,
            "grid_template_columns": null,
            "grid_template_rows": null,
            "height": null,
            "justify_content": null,
            "justify_items": null,
            "left": null,
            "margin": null,
            "max_height": null,
            "max_width": null,
            "min_height": null,
            "min_width": null,
            "object_fit": null,
            "object_position": null,
            "order": null,
            "overflow": null,
            "overflow_x": null,
            "overflow_y": null,
            "padding": null,
            "right": null,
            "top": null,
            "visibility": null,
            "width": null
          }
        },
        "2b3653bc844c4300a7b16ebd06b3d5c3": {
          "model_module": "@jupyter-widgets/controls",
          "model_name": "ProgressStyleModel",
          "model_module_version": "1.5.0",
          "state": {
            "_model_module": "@jupyter-widgets/controls",
            "_model_module_version": "1.5.0",
            "_model_name": "ProgressStyleModel",
            "_view_count": null,
            "_view_module": "@jupyter-widgets/base",
            "_view_module_version": "1.2.0",
            "_view_name": "StyleView",
            "bar_color": null,
            "description_width": ""
          }
        },
        "ec6774f5df8a45c9990f3f2f1892aa60": {
          "model_module": "@jupyter-widgets/base",
          "model_name": "LayoutModel",
          "model_module_version": "1.2.0",
          "state": {
            "_model_module": "@jupyter-widgets/base",
            "_model_module_version": "1.2.0",
            "_model_name": "LayoutModel",
            "_view_count": null,
            "_view_module": "@jupyter-widgets/base",
            "_view_module_version": "1.2.0",
            "_view_name": "LayoutView",
            "align_content": null,
            "align_items": null,
            "align_self": null,
            "border": null,
            "bottom": null,
            "display": null,
            "flex": null,
            "flex_flow": null,
            "grid_area": null,
            "grid_auto_columns": null,
            "grid_auto_flow": null,
            "grid_auto_rows": null,
            "grid_column": null,
            "grid_gap": null,
            "grid_row": null,
            "grid_template_areas": null,
            "grid_template_columns": null,
            "grid_template_rows": null,
            "height": null,
            "justify_content": null,
            "justify_items": null,
            "left": null,
            "margin": null,
            "max_height": null,
            "max_width": null,
            "min_height": null,
            "min_width": null,
            "object_fit": null,
            "object_position": null,
            "order": null,
            "overflow": null,
            "overflow_x": null,
            "overflow_y": null,
            "padding": null,
            "right": null,
            "top": null,
            "visibility": null,
            "width": null
          }
        },
        "4ec7ccfbae9d45ff85b290196a5e0389": {
          "model_module": "@jupyter-widgets/controls",
          "model_name": "DescriptionStyleModel",
          "model_module_version": "1.5.0",
          "state": {
            "_model_module": "@jupyter-widgets/controls",
            "_model_module_version": "1.5.0",
            "_model_name": "DescriptionStyleModel",
            "_view_count": null,
            "_view_module": "@jupyter-widgets/base",
            "_view_module_version": "1.2.0",
            "_view_name": "StyleView",
            "description_width": ""
          }
        },
        "3a60cf48ccdd49b084afd263e27e92b1": {
          "model_module": "@jupyter-widgets/controls",
          "model_name": "HBoxModel",
          "model_module_version": "1.5.0",
          "state": {
            "_dom_classes": [],
            "_model_module": "@jupyter-widgets/controls",
            "_model_module_version": "1.5.0",
            "_model_name": "HBoxModel",
            "_view_count": null,
            "_view_module": "@jupyter-widgets/controls",
            "_view_module_version": "1.5.0",
            "_view_name": "HBoxView",
            "box_style": "",
            "children": [
              "IPY_MODEL_290ee1aa80884ef8946159f24e6ba7cd",
              "IPY_MODEL_8b050b5f9e7a40189b488c5558ccf2c0",
              "IPY_MODEL_11c72173118f4f068b5de6c0bfc114ba"
            ],
            "layout": "IPY_MODEL_eb3b3d43e85e4dd099affedd5d02134a"
          }
        },
        "290ee1aa80884ef8946159f24e6ba7cd": {
          "model_module": "@jupyter-widgets/controls",
          "model_name": "HTMLModel",
          "model_module_version": "1.5.0",
          "state": {
            "_dom_classes": [],
            "_model_module": "@jupyter-widgets/controls",
            "_model_module_version": "1.5.0",
            "_model_name": "HTMLModel",
            "_view_count": null,
            "_view_module": "@jupyter-widgets/controls",
            "_view_module_version": "1.5.0",
            "_view_name": "HTMLView",
            "description": "",
            "description_tooltip": null,
            "layout": "IPY_MODEL_157fcab1f3ce4123b3fc6ac8e83ffa6d",
            "placeholder": "​",
            "style": "IPY_MODEL_84328ac1a9594029940deec00d1cf5e7",
            "value": "Downloading pytorch_model.bin: 100%"
          }
        },
        "8b050b5f9e7a40189b488c5558ccf2c0": {
          "model_module": "@jupyter-widgets/controls",
          "model_name": "FloatProgressModel",
          "model_module_version": "1.5.0",
          "state": {
            "_dom_classes": [],
            "_model_module": "@jupyter-widgets/controls",
            "_model_module_version": "1.5.0",
            "_model_name": "FloatProgressModel",
            "_view_count": null,
            "_view_module": "@jupyter-widgets/controls",
            "_view_module_version": "1.5.0",
            "_view_name": "ProgressView",
            "bar_style": "success",
            "description": "",
            "description_tooltip": null,
            "layout": "IPY_MODEL_87533ed8786448b3b455a3ce2c8f88ba",
            "max": 440473133,
            "min": 0,
            "orientation": "horizontal",
            "style": "IPY_MODEL_0d7abe89f911460d8faaba3937889fe7",
            "value": 440473133
          }
        },
        "11c72173118f4f068b5de6c0bfc114ba": {
          "model_module": "@jupyter-widgets/controls",
          "model_name": "HTMLModel",
          "model_module_version": "1.5.0",
          "state": {
            "_dom_classes": [],
            "_model_module": "@jupyter-widgets/controls",
            "_model_module_version": "1.5.0",
            "_model_name": "HTMLModel",
            "_view_count": null,
            "_view_module": "@jupyter-widgets/controls",
            "_view_module_version": "1.5.0",
            "_view_name": "HTMLView",
            "description": "",
            "description_tooltip": null,
            "layout": "IPY_MODEL_048b171908d149e2af89d167be065657",
            "placeholder": "​",
            "style": "IPY_MODEL_afc9d65a1c8b453dbfdec16dd2d8be8e",
            "value": " 440M/440M [00:01&lt;00:00, 310MB/s]"
          }
        },
        "eb3b3d43e85e4dd099affedd5d02134a": {
          "model_module": "@jupyter-widgets/base",
          "model_name": "LayoutModel",
          "model_module_version": "1.2.0",
          "state": {
            "_model_module": "@jupyter-widgets/base",
            "_model_module_version": "1.2.0",
            "_model_name": "LayoutModel",
            "_view_count": null,
            "_view_module": "@jupyter-widgets/base",
            "_view_module_version": "1.2.0",
            "_view_name": "LayoutView",
            "align_content": null,
            "align_items": null,
            "align_self": null,
            "border": null,
            "bottom": null,
            "display": null,
            "flex": null,
            "flex_flow": null,
            "grid_area": null,
            "grid_auto_columns": null,
            "grid_auto_flow": null,
            "grid_auto_rows": null,
            "grid_column": null,
            "grid_gap": null,
            "grid_row": null,
            "grid_template_areas": null,
            "grid_template_columns": null,
            "grid_template_rows": null,
            "height": null,
            "justify_content": null,
            "justify_items": null,
            "left": null,
            "margin": null,
            "max_height": null,
            "max_width": null,
            "min_height": null,
            "min_width": null,
            "object_fit": null,
            "object_position": null,
            "order": null,
            "overflow": null,
            "overflow_x": null,
            "overflow_y": null,
            "padding": null,
            "right": null,
            "top": null,
            "visibility": null,
            "width": null
          }
        },
        "157fcab1f3ce4123b3fc6ac8e83ffa6d": {
          "model_module": "@jupyter-widgets/base",
          "model_name": "LayoutModel",
          "model_module_version": "1.2.0",
          "state": {
            "_model_module": "@jupyter-widgets/base",
            "_model_module_version": "1.2.0",
            "_model_name": "LayoutModel",
            "_view_count": null,
            "_view_module": "@jupyter-widgets/base",
            "_view_module_version": "1.2.0",
            "_view_name": "LayoutView",
            "align_content": null,
            "align_items": null,
            "align_self": null,
            "border": null,
            "bottom": null,
            "display": null,
            "flex": null,
            "flex_flow": null,
            "grid_area": null,
            "grid_auto_columns": null,
            "grid_auto_flow": null,
            "grid_auto_rows": null,
            "grid_column": null,
            "grid_gap": null,
            "grid_row": null,
            "grid_template_areas": null,
            "grid_template_columns": null,
            "grid_template_rows": null,
            "height": null,
            "justify_content": null,
            "justify_items": null,
            "left": null,
            "margin": null,
            "max_height": null,
            "max_width": null,
            "min_height": null,
            "min_width": null,
            "object_fit": null,
            "object_position": null,
            "order": null,
            "overflow": null,
            "overflow_x": null,
            "overflow_y": null,
            "padding": null,
            "right": null,
            "top": null,
            "visibility": null,
            "width": null
          }
        },
        "84328ac1a9594029940deec00d1cf5e7": {
          "model_module": "@jupyter-widgets/controls",
          "model_name": "DescriptionStyleModel",
          "model_module_version": "1.5.0",
          "state": {
            "_model_module": "@jupyter-widgets/controls",
            "_model_module_version": "1.5.0",
            "_model_name": "DescriptionStyleModel",
            "_view_count": null,
            "_view_module": "@jupyter-widgets/base",
            "_view_module_version": "1.2.0",
            "_view_name": "StyleView",
            "description_width": ""
          }
        },
        "87533ed8786448b3b455a3ce2c8f88ba": {
          "model_module": "@jupyter-widgets/base",
          "model_name": "LayoutModel",
          "model_module_version": "1.2.0",
          "state": {
            "_model_module": "@jupyter-widgets/base",
            "_model_module_version": "1.2.0",
            "_model_name": "LayoutModel",
            "_view_count": null,
            "_view_module": "@jupyter-widgets/base",
            "_view_module_version": "1.2.0",
            "_view_name": "LayoutView",
            "align_content": null,
            "align_items": null,
            "align_self": null,
            "border": null,
            "bottom": null,
            "display": null,
            "flex": null,
            "flex_flow": null,
            "grid_area": null,
            "grid_auto_columns": null,
            "grid_auto_flow": null,
            "grid_auto_rows": null,
            "grid_column": null,
            "grid_gap": null,
            "grid_row": null,
            "grid_template_areas": null,
            "grid_template_columns": null,
            "grid_template_rows": null,
            "height": null,
            "justify_content": null,
            "justify_items": null,
            "left": null,
            "margin": null,
            "max_height": null,
            "max_width": null,
            "min_height": null,
            "min_width": null,
            "object_fit": null,
            "object_position": null,
            "order": null,
            "overflow": null,
            "overflow_x": null,
            "overflow_y": null,
            "padding": null,
            "right": null,
            "top": null,
            "visibility": null,
            "width": null
          }
        },
        "0d7abe89f911460d8faaba3937889fe7": {
          "model_module": "@jupyter-widgets/controls",
          "model_name": "ProgressStyleModel",
          "model_module_version": "1.5.0",
          "state": {
            "_model_module": "@jupyter-widgets/controls",
            "_model_module_version": "1.5.0",
            "_model_name": "ProgressStyleModel",
            "_view_count": null,
            "_view_module": "@jupyter-widgets/base",
            "_view_module_version": "1.2.0",
            "_view_name": "StyleView",
            "bar_color": null,
            "description_width": ""
          }
        },
        "048b171908d149e2af89d167be065657": {
          "model_module": "@jupyter-widgets/base",
          "model_name": "LayoutModel",
          "model_module_version": "1.2.0",
          "state": {
            "_model_module": "@jupyter-widgets/base",
            "_model_module_version": "1.2.0",
            "_model_name": "LayoutModel",
            "_view_count": null,
            "_view_module": "@jupyter-widgets/base",
            "_view_module_version": "1.2.0",
            "_view_name": "LayoutView",
            "align_content": null,
            "align_items": null,
            "align_self": null,
            "border": null,
            "bottom": null,
            "display": null,
            "flex": null,
            "flex_flow": null,
            "grid_area": null,
            "grid_auto_columns": null,
            "grid_auto_flow": null,
            "grid_auto_rows": null,
            "grid_column": null,
            "grid_gap": null,
            "grid_row": null,
            "grid_template_areas": null,
            "grid_template_columns": null,
            "grid_template_rows": null,
            "height": null,
            "justify_content": null,
            "justify_items": null,
            "left": null,
            "margin": null,
            "max_height": null,
            "max_width": null,
            "min_height": null,
            "min_width": null,
            "object_fit": null,
            "object_position": null,
            "order": null,
            "overflow": null,
            "overflow_x": null,
            "overflow_y": null,
            "padding": null,
            "right": null,
            "top": null,
            "visibility": null,
            "width": null
          }
        },
        "afc9d65a1c8b453dbfdec16dd2d8be8e": {
          "model_module": "@jupyter-widgets/controls",
          "model_name": "DescriptionStyleModel",
          "model_module_version": "1.5.0",
          "state": {
            "_model_module": "@jupyter-widgets/controls",
            "_model_module_version": "1.5.0",
            "_model_name": "DescriptionStyleModel",
            "_view_count": null,
            "_view_module": "@jupyter-widgets/base",
            "_view_module_version": "1.2.0",
            "_view_name": "StyleView",
            "description_width": ""
          }
        }
      }
    }
  },
  "nbformat": 4,
  "nbformat_minor": 5
}